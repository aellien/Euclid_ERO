{
 "cells": [
  {
   "cell_type": "code",
   "execution_count": 75,
   "id": "125953fb-bc78-469f-b382-aef517b063cd",
   "metadata": {},
   "outputs": [],
   "source": [
    "import sys\n",
    "import dawis as d\n",
    "import glob as glob\n",
    "import os\n",
    "import numpy as np\n",
    "import pyregion as pyr\n",
    "import random\n",
    "import gc\n",
    "import h5py\n",
    "import dawis\n",
    "import matplotlib as mpl\n",
    "import pandas as pd\n",
    "import matplotlib.pyplot as plt\n",
    "from mpl_toolkits.axes_grid1 import make_axes_locatable\n",
    "from astropy.io import fits\n",
    "from astropy.visualization import *\n",
    "from scipy.stats import kurtosis\n",
    "from power_ratio import *\n",
    "from datetime import datetime\n",
    "from photutils.segmentation import SourceCatalog, detect_sources\n",
    "from photutils.background import Background2D, MedianBackground\n",
    "import make_results_ERO_noray\n",
    "import tracemalloc\n",
    "import matplotlib\n",
    "import cmasher\n",
    "from astropy.wcs import WCS\n",
    "from scipy.ndimage import gaussian_filter\n",
    "from matplotlib.patches import Rectangle\n",
    "from astropy.stats import sigma_clip, SigmaClip\n",
    "import subprocess"
   ]
  },
  {
   "cell_type": "code",
   "execution_count": 76,
   "id": "0d8ab3dc-a9df-4e5d-a579-96db9230d496",
   "metadata": {},
   "outputs": [],
   "source": [
    "# Paths, lists & variables\n",
    "path_data = '/home/aellien/Euclid_ERO/data/Euclid-NISP-Stack-ERO-Abell2390.DR3/'\n",
    "path_sub_data = '/home/aellien/Euclid_ERO/data/Euclid-NISP-Stack-ERO-Abell2390.DR3/Abell2390_NISP_starsubtraction'\n",
    "path_scripts = '/home/aellien/Euclid_ERO/Euclid_ERO_scripts'\n",
    "path_wavelets = '/home/aellien/Euclid_ERO/wavelets/out13/'\n",
    "path_plots = '/home/aellien/Euclid_ERO/plots'\n",
    "path_analysis = '/home/aellien/Euclid_ERO/analysis/'\n",
    "\n",
    "hdu = fits.open('/home/aellien/Euclid_ERO/data/Euclid-NISP-Stack-ERO-Abell2390.DR3/Euclid-NISP-H-ERO-Abell2390-LSB.DR3.masked.rot.crop.warp.input.fits')\n",
    "header = hdu[0].header\n",
    "oim = hdu[0].data\n",
    "xs, ys = oim.shape"
   ]
  },
  {
   "cell_type": "code",
   "execution_count": 5,
   "id": "ec405118-89e9-4a65-818a-b06e216b4966",
   "metadata": {},
   "outputs": [
    {
     "name": "stdout",
     "output_type": "stream",
     "text": [
      "Final_output_JGM_Abellfinal_psf_sub_Hv1_Callummock.fits\n",
      "Warp 0.21 started on Mon Jul 29 22:26:03 2024\n",
      " Using 20 CPU threads.\n",
      " Input: /home/aellien/Euclid_ERO/data/Euclid-NISP-Stack-ERO-Abell2390.DR3/Abell2390_NISP_starsubtraction/Final_output_JGM_Abellfinal_psf_sub_Hv1_Callummock.fits (hdu: 0)\n",
      " matrix:\n",
      "\t 0.4226    0.9063    0.0000\n",
      "\t-0.9063    0.4226    0.0000\n",
      "\t 0.0000    0.0000    1.0000\n",
      " Output: /home/aellien/Euclid_ERO/data/Euclid-NISP-Stack-ERO-Abell2390.DR3/Abell2390_NISP_starsubtraction/Final_output_JGM_Abellfinal_psf_sub_Hv1_Callummock.rot.fits\n",
      "Warp finished in:  17.965971 seconds\n",
      "Crop 0.21 started on Mon Jul 29 22:26:21 2024\n",
      "  - Read metadata of 1 dataset.                        0.000882 seconds\n",
      "  ---- ...v1_Callummock.rot.crop.fits created: 1 input.\n",
      "Crop finished in:  1.138486 seconds\n",
      "Warp 0.21 started on Mon Jul 29 22:26:22 2024\n",
      " Using 20 CPU threads.\n",
      " Input: /home/aellien/Euclid_ERO/data/Euclid-NISP-Stack-ERO-Abell2390.DR3/Abell2390_NISP_starsubtraction/Final_output_JGM_Abellfinal_psf_sub_Hv1_Callummock.rot.crop.fits (hdu: 1)\n",
      " matrix:\n",
      "\t 0.2500    0.0000    0.0000\n",
      "\t 0.0000    0.2500    0.0000\n",
      "\t 0.0000    0.0000    1.0000\n",
      " Output: /home/aellien/Euclid_ERO/data/Euclid-NISP-Stack-ERO-Abell2390.DR3/Abell2390_NISP_starsubtraction/Final_output_JGM_Abellfinal_psf_sub_Hv1_Callummock.rot.crop.warp.fits\n",
      "Warp finished in:  1.950906 seconds\n",
      "Final_output_JGM_Abellfinal_psf_sub_Jv1_vC1_v21.fits\n",
      "Warp 0.21 started on Mon Jul 29 22:26:24 2024\n",
      " Using 20 CPU threads.\n",
      " Input: /home/aellien/Euclid_ERO/data/Euclid-NISP-Stack-ERO-Abell2390.DR3/Abell2390_NISP_starsubtraction/Final_output_JGM_Abellfinal_psf_sub_Jv1_vC1_v21.fits (hdu: 0)\n",
      " matrix:\n",
      "\t 0.4226    0.9063    0.0000\n",
      "\t-0.9063    0.4226    0.0000\n",
      "\t 0.0000    0.0000    1.0000\n",
      " Output: /home/aellien/Euclid_ERO/data/Euclid-NISP-Stack-ERO-Abell2390.DR3/Abell2390_NISP_starsubtraction/Final_output_JGM_Abellfinal_psf_sub_Jv1_vC1_v21.rot.fits\n",
      "Warp finished in:  19.205941 seconds\n",
      "Crop 0.21 started on Mon Jul 29 22:26:43 2024\n",
      "  - Read metadata of 1 dataset.                        0.000979 seconds\n",
      "  ---- ...b_Jv1_vC1_v21.rot.crop.fits created: 1 input.\n",
      "Crop finished in:  1.166800 seconds\n",
      "Warp 0.21 started on Mon Jul 29 22:26:44 2024\n",
      " Using 20 CPU threads.\n",
      " Input: /home/aellien/Euclid_ERO/data/Euclid-NISP-Stack-ERO-Abell2390.DR3/Abell2390_NISP_starsubtraction/Final_output_JGM_Abellfinal_psf_sub_Jv1_vC1_v21.rot.crop.fits (hdu: 1)\n",
      " matrix:\n",
      "\t 0.2500    0.0000    0.0000\n",
      "\t 0.0000    0.2500    0.0000\n",
      "\t 0.0000    0.0000    1.0000\n",
      " Output: /home/aellien/Euclid_ERO/data/Euclid-NISP-Stack-ERO-Abell2390.DR3/Abell2390_NISP_starsubtraction/Final_output_JGM_Abellfinal_psf_sub_Jv1_vC1_v21.rot.crop.warp.fits\n",
      "Warp finished in:  2.079681 seconds\n",
      "Final_output_JGM_Abellfinal_psf_sub_Hv1_vC1_v24.fits\n",
      "Warp 0.21 started on Mon Jul 29 22:26:46 2024\n",
      " Using 20 CPU threads.\n",
      " Input: /home/aellien/Euclid_ERO/data/Euclid-NISP-Stack-ERO-Abell2390.DR3/Abell2390_NISP_starsubtraction/Final_output_JGM_Abellfinal_psf_sub_Hv1_vC1_v24.fits (hdu: 0)\n",
      " matrix:\n",
      "\t 0.4226    0.9063    0.0000\n",
      "\t-0.9063    0.4226    0.0000\n",
      "\t 0.0000    0.0000    1.0000\n",
      " Output: /home/aellien/Euclid_ERO/data/Euclid-NISP-Stack-ERO-Abell2390.DR3/Abell2390_NISP_starsubtraction/Final_output_JGM_Abellfinal_psf_sub_Hv1_vC1_v24.rot.fits\n",
      "Warp finished in:  20.211370 seconds\n",
      "Crop 0.21 started on Mon Jul 29 22:27:07 2024\n",
      "  - Read metadata of 1 dataset.                        0.000931 seconds\n",
      "  ---- ...b_Hv1_vC1_v24.rot.crop.fits created: 1 input.\n",
      "Crop finished in:  1.149274 seconds\n",
      "Warp 0.21 started on Mon Jul 29 22:27:08 2024\n",
      " Using 20 CPU threads.\n",
      " Input: /home/aellien/Euclid_ERO/data/Euclid-NISP-Stack-ERO-Abell2390.DR3/Abell2390_NISP_starsubtraction/Final_output_JGM_Abellfinal_psf_sub_Hv1_vC1_v24.rot.crop.fits (hdu: 1)\n",
      " matrix:\n",
      "\t 0.2500    0.0000    0.0000\n",
      "\t 0.0000    0.2500    0.0000\n",
      "\t 0.0000    0.0000    1.0000\n",
      " Output: /home/aellien/Euclid_ERO/data/Euclid-NISP-Stack-ERO-Abell2390.DR3/Abell2390_NISP_starsubtraction/Final_output_JGM_Abellfinal_psf_sub_Hv1_vC1_v24.rot.crop.warp.fits\n",
      "Warp finished in:  2.208558 seconds\n",
      "Final_output_JGM_Abellfinal_psf_sub_Yv1_vC1_v21.fits\n",
      "Warp 0.21 started on Mon Jul 29 22:27:10 2024\n",
      " Using 20 CPU threads.\n",
      " Input: /home/aellien/Euclid_ERO/data/Euclid-NISP-Stack-ERO-Abell2390.DR3/Abell2390_NISP_starsubtraction/Final_output_JGM_Abellfinal_psf_sub_Yv1_vC1_v21.fits (hdu: 0)\n",
      " matrix:\n",
      "\t 0.4226    0.9063    0.0000\n",
      "\t-0.9063    0.4226    0.0000\n",
      "\t 0.0000    0.0000    1.0000\n",
      " Output: /home/aellien/Euclid_ERO/data/Euclid-NISP-Stack-ERO-Abell2390.DR3/Abell2390_NISP_starsubtraction/Final_output_JGM_Abellfinal_psf_sub_Yv1_vC1_v21.rot.fits\n",
      "Warp finished in:  21.085832 seconds\n",
      "Crop 0.21 started on Mon Jul 29 22:27:31 2024\n",
      "  - Read metadata of 1 dataset.                        0.000862 seconds\n",
      "  ---- ...b_Yv1_vC1_v21.rot.crop.fits created: 1 input.\n",
      "Crop finished in:  1.177161 seconds\n",
      "Warp 0.21 started on Mon Jul 29 22:27:32 2024\n",
      " Using 20 CPU threads.\n",
      " Input: /home/aellien/Euclid_ERO/data/Euclid-NISP-Stack-ERO-Abell2390.DR3/Abell2390_NISP_starsubtraction/Final_output_JGM_Abellfinal_psf_sub_Yv1_vC1_v21.rot.crop.fits (hdu: 1)\n",
      " matrix:\n",
      "\t 0.2500    0.0000    0.0000\n",
      "\t 0.0000    0.2500    0.0000\n",
      "\t 0.0000    0.0000    1.0000\n",
      " Output: /home/aellien/Euclid_ERO/data/Euclid-NISP-Stack-ERO-Abell2390.DR3/Abell2390_NISP_starsubtraction/Final_output_JGM_Abellfinal_psf_sub_Yv1_vC1_v21.rot.crop.warp.fits\n",
      "Warp finished in:  2.216448 seconds\n",
      "done\n"
     ]
    }
   ],
   "source": [
    "# Make same image without masking\n",
    "nfdl = [ {'infile':'Final_output_JGM_Abellfinal_psf_sub_Hv1_Callummock.fits', 'filter':'H'},\n",
    "        {'infile':'Final_output_JGM_Abellfinal_psf_sub_Jv1_vC1_v21.fits', 'filter':'J'}, \n",
    "        {'infile':'Final_output_JGM_Abellfinal_psf_sub_Hv1_vC1_v24.fits', 'filter':'H'},\n",
    "        {'infile':'Final_output_JGM_Abellfinal_psf_sub_Yv1_vC1_v21.fits', 'filter':'Y'} ]\n",
    "for nfd in nfdl:\n",
    "    \n",
    "    print(nfd['infile'])\n",
    "    infile = os.path.join(path_sub_data, nfd['infile'])\n",
    "    hdu = fits.open(infile)\n",
    "    oim, header = hdu[0].data, hdu[0].header\n",
    "\n",
    "    # rot\n",
    "    rot = infile[:-4]+'rot.fits'\n",
    "    subprocess.run(['astwarp', '--rotate=295', '-h0', infile, '--output=%s'%rot])\n",
    "\n",
    "    # crop\n",
    "    crop = rot[:-4]+'crop.fits'\n",
    "    subprocess.run(['astcrop', '--mode=wcs', '--center=328.40009,17.699051', '--width=0.75,0.75', '-h1', '--output=%s'%crop, rot])\n",
    "\n",
    "    # warp\n",
    "    warp = crop[:-4]+'warp.fits'\n",
    "    subprocess.run(['astwarp', '--scale=1./4.', '-h1', '--output=%s'%warp, crop])\n",
    "\n",
    "    # dawis input rdy\n",
    "    input = warp[:-4]+'input.fits'\n",
    "    subprocess.run(['astfits', warp, '--copy=1', '--output=%s'%input, '--primaryimghdu'])\n",
    "\n",
    "print('done')"
   ]
  },
  {
   "cell_type": "code",
   "execution_count": 77,
   "id": "4797d28f-d302-4ad1-b068-f514795ae7f6",
   "metadata": {},
   "outputs": [
    {
     "name": "stdout",
     "output_type": "stream",
     "text": [
      "99\r"
     ]
    },
    {
     "ename": "FileNotFoundError",
     "evalue": "[Errno 2] Unable to synchronously open file (unable to open file: name = '/home/aellien/Euclid_ERO/wavelets/out13/Final_output_JGM_Abellfinal_psf_sub_Jv1_vC1_v21.rot.crop.warp.input.ol.it099.hdf5', errno = 2, error message = 'No such file or directory', flags = 0, o_flags = 0)",
     "output_type": "error",
     "traceback": [
      "\u001b[0;31m---------------------------------------------------------------------------\u001b[0m",
      "\u001b[0;31mFileNotFoundError\u001b[0m                         Traceback (most recent call last)",
      "Cell \u001b[0;32mIn[77], line 30\u001b[0m\n\u001b[1;32m     28\u001b[0m \u001b[38;5;28mprint\u001b[39m(i, end \u001b[38;5;241m=\u001b[39m \u001b[38;5;124m'\u001b[39m\u001b[38;5;130;01m\\r\u001b[39;00m\u001b[38;5;124m'\u001b[39m)\n\u001b[1;32m     29\u001b[0m op \u001b[38;5;241m=\u001b[39m nfp \u001b[38;5;241m+\u001b[39m \u001b[38;5;124m'\u001b[39m\u001b[38;5;124mol.it\u001b[39m\u001b[38;5;132;01m%03d\u001b[39;00m\u001b[38;5;124m.hdf5\u001b[39m\u001b[38;5;124m'\u001b[39m\u001b[38;5;241m%\u001b[39mi\n\u001b[0;32m---> 30\u001b[0m \u001b[38;5;28;01mwith\u001b[39;00m \u001b[43mh5py\u001b[49m\u001b[38;5;241;43m.\u001b[39;49m\u001b[43mFile\u001b[49m\u001b[43m(\u001b[49m\u001b[43mop\u001b[49m\u001b[43m,\u001b[49m\u001b[43m \u001b[49m\u001b[38;5;124;43m\"\u001b[39;49m\u001b[38;5;124;43mr\u001b[39;49m\u001b[38;5;124;43m\"\u001b[39;49m\u001b[43m)\u001b[49m \u001b[38;5;28;01mas\u001b[39;00m f1:\n\u001b[1;32m     31\u001b[0m     \u001b[38;5;28;01mfor\u001b[39;00m o \u001b[38;5;129;01min\u001b[39;00m f1\u001b[38;5;241m.\u001b[39mkeys():\n\u001b[1;32m     32\u001b[0m         gc\u001b[38;5;241m.\u001b[39mcollect()\n",
      "File \u001b[0;32m~/anaconda3/envs/jwst-env/lib/python3.11/site-packages/h5py/_hl/files.py:567\u001b[0m, in \u001b[0;36mFile.__init__\u001b[0;34m(self, name, mode, driver, libver, userblock_size, swmr, rdcc_nslots, rdcc_nbytes, rdcc_w0, track_order, fs_strategy, fs_persist, fs_threshold, fs_page_size, page_buf_size, min_meta_keep, min_raw_keep, locking, alignment_threshold, alignment_interval, meta_block_size, **kwds)\u001b[0m\n\u001b[1;32m    558\u001b[0m     fapl \u001b[38;5;241m=\u001b[39m make_fapl(driver, libver, rdcc_nslots, rdcc_nbytes, rdcc_w0,\n\u001b[1;32m    559\u001b[0m                      locking, page_buf_size, min_meta_keep, min_raw_keep,\n\u001b[1;32m    560\u001b[0m                      alignment_threshold\u001b[38;5;241m=\u001b[39malignment_threshold,\n\u001b[1;32m    561\u001b[0m                      alignment_interval\u001b[38;5;241m=\u001b[39malignment_interval,\n\u001b[1;32m    562\u001b[0m                      meta_block_size\u001b[38;5;241m=\u001b[39mmeta_block_size,\n\u001b[1;32m    563\u001b[0m                      \u001b[38;5;241m*\u001b[39m\u001b[38;5;241m*\u001b[39mkwds)\n\u001b[1;32m    564\u001b[0m     fcpl \u001b[38;5;241m=\u001b[39m make_fcpl(track_order\u001b[38;5;241m=\u001b[39mtrack_order, fs_strategy\u001b[38;5;241m=\u001b[39mfs_strategy,\n\u001b[1;32m    565\u001b[0m                      fs_persist\u001b[38;5;241m=\u001b[39mfs_persist, fs_threshold\u001b[38;5;241m=\u001b[39mfs_threshold,\n\u001b[1;32m    566\u001b[0m                      fs_page_size\u001b[38;5;241m=\u001b[39mfs_page_size)\n\u001b[0;32m--> 567\u001b[0m     fid \u001b[38;5;241m=\u001b[39m \u001b[43mmake_fid\u001b[49m\u001b[43m(\u001b[49m\u001b[43mname\u001b[49m\u001b[43m,\u001b[49m\u001b[43m \u001b[49m\u001b[43mmode\u001b[49m\u001b[43m,\u001b[49m\u001b[43m \u001b[49m\u001b[43muserblock_size\u001b[49m\u001b[43m,\u001b[49m\u001b[43m \u001b[49m\u001b[43mfapl\u001b[49m\u001b[43m,\u001b[49m\u001b[43m \u001b[49m\u001b[43mfcpl\u001b[49m\u001b[43m,\u001b[49m\u001b[43m \u001b[49m\u001b[43mswmr\u001b[49m\u001b[38;5;241;43m=\u001b[39;49m\u001b[43mswmr\u001b[49m\u001b[43m)\u001b[49m\n\u001b[1;32m    569\u001b[0m \u001b[38;5;28;01mif\u001b[39;00m \u001b[38;5;28misinstance\u001b[39m(libver, \u001b[38;5;28mtuple\u001b[39m):\n\u001b[1;32m    570\u001b[0m     \u001b[38;5;28mself\u001b[39m\u001b[38;5;241m.\u001b[39m_libver \u001b[38;5;241m=\u001b[39m libver\n",
      "File \u001b[0;32m~/anaconda3/envs/jwst-env/lib/python3.11/site-packages/h5py/_hl/files.py:231\u001b[0m, in \u001b[0;36mmake_fid\u001b[0;34m(name, mode, userblock_size, fapl, fcpl, swmr)\u001b[0m\n\u001b[1;32m    229\u001b[0m     \u001b[38;5;28;01mif\u001b[39;00m swmr \u001b[38;5;129;01mand\u001b[39;00m swmr_support:\n\u001b[1;32m    230\u001b[0m         flags \u001b[38;5;241m|\u001b[39m\u001b[38;5;241m=\u001b[39m h5f\u001b[38;5;241m.\u001b[39mACC_SWMR_READ\n\u001b[0;32m--> 231\u001b[0m     fid \u001b[38;5;241m=\u001b[39m \u001b[43mh5f\u001b[49m\u001b[38;5;241;43m.\u001b[39;49m\u001b[43mopen\u001b[49m\u001b[43m(\u001b[49m\u001b[43mname\u001b[49m\u001b[43m,\u001b[49m\u001b[43m \u001b[49m\u001b[43mflags\u001b[49m\u001b[43m,\u001b[49m\u001b[43m \u001b[49m\u001b[43mfapl\u001b[49m\u001b[38;5;241;43m=\u001b[39;49m\u001b[43mfapl\u001b[49m\u001b[43m)\u001b[49m\n\u001b[1;32m    232\u001b[0m \u001b[38;5;28;01melif\u001b[39;00m mode \u001b[38;5;241m==\u001b[39m \u001b[38;5;124m'\u001b[39m\u001b[38;5;124mr+\u001b[39m\u001b[38;5;124m'\u001b[39m:\n\u001b[1;32m    233\u001b[0m     fid \u001b[38;5;241m=\u001b[39m h5f\u001b[38;5;241m.\u001b[39mopen(name, h5f\u001b[38;5;241m.\u001b[39mACC_RDWR, fapl\u001b[38;5;241m=\u001b[39mfapl)\n",
      "File \u001b[0;32mh5py/_objects.pyx:54\u001b[0m, in \u001b[0;36mh5py._objects.with_phil.wrapper\u001b[0;34m()\u001b[0m\n",
      "File \u001b[0;32mh5py/_objects.pyx:55\u001b[0m, in \u001b[0;36mh5py._objects.with_phil.wrapper\u001b[0;34m()\u001b[0m\n",
      "File \u001b[0;32mh5py/h5f.pyx:106\u001b[0m, in \u001b[0;36mh5py.h5f.open\u001b[0;34m()\u001b[0m\n",
      "\u001b[0;31mFileNotFoundError\u001b[0m: [Errno 2] Unable to synchronously open file (unable to open file: name = '/home/aellien/Euclid_ERO/wavelets/out13/Final_output_JGM_Abellfinal_psf_sub_Jv1_vC1_v21.rot.crop.warp.input.ol.it099.hdf5', errno = 2, error message = 'No such file or directory', flags = 0, o_flags = 0)"
     ]
    }
   ],
   "source": [
    "nfp = os.path.join(path_wavelets, 'Final_output_JGM_Abellfinal_psf_sub_Jv1_vC1_v21.rot.crop.warp.input.')\n",
    "opath = nfp + '*ol.it*.hdf5'\n",
    "opathl = glob.glob(opath)\n",
    "opathl.sort()\n",
    "\n",
    "cirim3 = np.zeros((xs, ys))\n",
    "cirim4 = np.zeros((xs, ys))\n",
    "cirim5 = np.zeros((xs, ys))\n",
    "cirim6 = np.zeros((xs, ys))\n",
    "cirim7 = np.zeros((xs, ys))\n",
    "derim3 = np.zeros((xs, ys))\n",
    "derim4 = np.zeros((xs, ys))\n",
    "derim5 = np.zeros((xs, ys))\n",
    "derim6 = np.zeros((xs, ys))\n",
    "derim7 = np.zeros((xs, ys))\n",
    "recim = np.zeros((xs, ys))\n",
    "\n",
    "# avoid cluster region\n",
    "hdu = fits.open(os.path.join(path_data, 'Euclid-NISP-J-ERO-Abell2390-LSB.DR3.rot.crop.warp.input.fits'))\n",
    "oim, header = hdu[0].data, hdu[0].header\n",
    "r = pyr.open(os.path.join(path_analysis, 'cluster_cirrus_mask_NISP_pix.reg'))\n",
    "mcl = r.get_mask(hdu = hdu[0])\n",
    "mmock = fits.getdata(os.path.join(path_analysis, 'mask_mock_clusters.fits'))\n",
    "mcl = mcl + mmock\n",
    "mcl[mcl > 0] = 1\n",
    "\n",
    "for i in range(1, 149):\n",
    "    print(i, end = '\\r')\n",
    "    op = nfp + 'ol.it%03d.hdf5'%i\n",
    "    with h5py.File(op, \"r\") as f1:\n",
    "        for o in f1.keys():\n",
    "            gc.collect()\n",
    "            x_min, y_min, x_max, y_max = np.copy(f1[o]['bbox'][()])\n",
    "            image = np.copy(f1[o]['image'][()])\n",
    "            det_err_image = np.copy(f1[o]['det_err_image'][()])\n",
    "            m = detect_sources(image, threshold = 0., npixels=1)\n",
    "            c = SourceCatalog(image, m)\n",
    "            xco = int(c.centroid_quad[0][1] + x_min)\n",
    "            yco = int(c.centroid_quad[0][0] + y_min)\n",
    "            xco = np.unravel_index(image.argmax(), image.shape)[0] + x_min\n",
    "            yco = np.unravel_index(image.argmax(), image.shape)[1] + y_min\n",
    "            lvlo = np.copy(f1[o]['level'][()])\n",
    "\n",
    "            recim[ x_min : x_max, y_min : y_max ] += image\n",
    "            \n",
    "            \n",
    "            if (lvlo == 3) & (mcl[xco, yco] != True):\n",
    "                cirim3[ x_min : x_max, y_min : y_max ] += image\n",
    "                derim3[ x_min : x_max, y_min : y_max ] += det_err_image\n",
    "            if (lvlo == 4) & (mcl[xco, yco] != True):\n",
    "                cirim4[ x_min : x_max, y_min : y_max ] += image\n",
    "                derim4[ x_min : x_max, y_min : y_max ] += det_err_image\n",
    "            if (lvlo == 5) & (mcl[xco, yco] != True):\n",
    "                cirim5[ x_min : x_max, y_min : y_max ] += image\n",
    "                derim5[ x_min : x_max, y_min : y_max ] += det_err_image\n",
    "            if (lvlo == 6) & (mcl[xco, yco] != True):\n",
    "                cirim6[ x_min : x_max, y_min : y_max ] += image\n",
    "                derim6[ x_min : x_max, y_min : y_max ] += det_err_image\n",
    "            if lvlo >= 7:\n",
    "                cirim7[ x_min : x_max, y_min : y_max ] += image\n",
    "                derim7[ x_min : x_max, y_min : y_max ] += det_err_image\n",
    "cirim = cirim5+cirim6+cirim7\n",
    "derim = derim5+derim6+derim7\n",
    "print('done')"
   ]
  },
  {
   "cell_type": "code",
   "execution_count": 80,
   "id": "5b2beb7b-dd29-4bef-855d-4fd659353495",
   "metadata": {},
   "outputs": [],
   "source": [
    "cirim = cirim6+cirim7\n",
    "derim = derim6+derim7"
   ]
  },
  {
   "cell_type": "code",
   "execution_count": 81,
   "id": "dd7dc776-0241-4792-9a18-d00b49dae324",
   "metadata": {},
   "outputs": [
    {
     "name": "stderr",
     "output_type": "stream",
     "text": [
      "WARNING: Input data contains invalid values (NaNs or infs), which were automatically clipped. [astropy.stats.sigma_clipping]\n"
     ]
    }
   ],
   "source": [
    "hdu = fits.open(os.path.join(path_sub_data, 'Final_output_JGM_Abellfinal_psf_sub_Jv1_vC1_v21.rot.crop.warp.input.fits'))\n",
    "oim, header = hdu[0].data, hdu[0].header\n",
    "noise_pixels, val_max = dawis.sample_noise(oim, n_sigmas = 3, bins = 300)\n",
    "hduo = fits.PrimaryHDU()\n",
    "hdu_oim = fits.ImageHDU(oim, header = header, name = 'ORIGINAL')\n",
    "hdu_cirim = fits.ImageHDU(cirim + val_max, header = header, name = 'CIRRUS')\n",
    "hdu_derim = fits.ImageHDU(derim, header = header, name = 'RMS')\n",
    "hdu_clean = fits.ImageHDU(oim - cirim, header = header, name = 'CLEANED')\n",
    "hdu_recim = fits.ImageHDU(recim, header = header, name = 'RECIM')\n",
    "hdu_res = fits.ImageHDU(oim - recim, header = header, name = 'RES')\n",
    "\n",
    "hdul = fits.HDUList([hduo, hdu_oim, hdu_clean, hdu_cirim, hdu_derim, hdu_recim, hdu_res])\n",
    "hdul.writeto(nfp + 'synth.cirrus_lvl5.fits', overwrite = True)"
   ]
  },
  {
   "cell_type": "code",
   "execution_count": 87,
   "id": "2da5c8a7-af80-47a4-984e-57c97b224ca3",
   "metadata": {},
   "outputs": [],
   "source": [
    "# rewrite input for 2nd pass\n",
    "for infile in glob.glob(os.path.join(path_wavelets, 'Final_output_JGM_Abellfinal_psf_sub_Hv1_vC1_v21.rot.crop.warp.input.synth.cirrus_lvl5.fits')):\n",
    "    hduo, hdu_oim, hdu_clean, hdu_cirim, hdu_derim, hdu_recim, hdu_res = fits.open(infile)\n",
    "    res = hdu_res.data\n",
    "    cirim = hdu_cirim.data\n",
    "    derim = hdu_derim.data\n",
    "    recim = hdu_recim.data\n",
    "\n",
    "    hdu = fits.open(os.path.join(path_sub_data, 'Final_output_JGM_Abellfinal_psf_sub_Hv1_vC1_v21.rot.crop.warp.input.fits'))\n",
    "    oim, header = hdu[0].data, hdu[0].header\n",
    "    \n",
    "    noise_pixels, val_max = dawis.sample_noise(oim, n_sigmas = 3, bins = 300)\n",
    "    moim = np.copy(res)\n",
    "    mean, std = np.mean(noise_pixels), np.std(noise_pixels)\n",
    "    mask = np.zeros(moim.shape)\n",
    "    mask[ moim < -abs(5 * std) ] = 1.\n",
    "    mask[np.where(np.isnan(moim) == True)] = 1.\n",
    "    draws = np.random.normal(mean, std, moim.shape)\n",
    "    mask *= draws\n",
    "    moim[ moim < -abs(5 * std) ] = 0.\n",
    "    moim[ np.where(np.isnan(moim) == True)] = 0.\n",
    "    moim += mask\n",
    "\n",
    "    sigma_clip = SigmaClip(sigma = 3.0)\n",
    "    bkg_estimator = MedianBackground()\n",
    "    bkg = Background2D(moim, (50, 50), filter_size=(3, 3), sigma_clip = sigma_clip, bkg_estimator=bkg_estimator)\n",
    "    plt.figure()\n",
    "    plt.imshow(bkg.background, origin = 'lower', norm = ImageNormalize( bkg.background, interval = ZScaleInterval(), stretch = LinearStretch() ) )#\n",
    "    plt.colorbar()\n",
    "    plt.show()\n",
    "\n",
    "    plt.figure()\n",
    "    plt.hist(bkg.background.flatten(), bins = 100, range = (1640, 2250))\n",
    "    plt.show()\n",
    "\n",
    "    hduo = fits.PrimaryHDU()\n",
    "    hdu_cirim = fits.ImageHDU(cirim + bkg.background - val_max, header = header, name = 'CIRRUS')\n",
    "    hdu_clean = fits.ImageHDU(oim - cirim + val_max - bkg.background, header = header, name = 'CLEANED')\n",
    "    hdu_recim = fits.ImageHDU(recim + bkg.background - val_max, header = header, name = 'RECIM')\n",
    "    hdu_res = fits.ImageHDU(oim - recim - bkg.background + val_max, header = header, name = 'RES')    \n",
    "    hdu_rms = fits.ImageHDU(bkg.background_rms, header = header, name = 'RMS')\n",
    "    \n",
    "    hdul = fits.HDUList([hduo, hdu_oim, hdu_clean, hdu_cirim, hdu_recim, hdu_res, hdu_rms])\n",
    "    hdul.writeto(os.path.join(path_wavelets, 'Euclid-NISP-H-ERO-Abell2390-LSB.DR3.rot.crop.warp.input.synth.cirrus_res_altpass2.fits'), overwrite = True)\n",
    "  "
   ]
  },
  {
   "cell_type": "code",
   "execution_count": 15,
   "id": "f7eea400-a29a-496c-a13f-734a5c49f89b",
   "metadata": {},
   "outputs": [
    {
     "data": {
      "text/plain": [
       "'/home/aellien/Euclid_ERO/wavelets/out13/Euclid-NISP-H-ERO-Abell2390-LSB.DR3.rot.crop.warp.input.synth.cirrus_lvl5.fits'"
      ]
     },
     "execution_count": 15,
     "metadata": {},
     "output_type": "execute_result"
    }
   ],
   "source": [
    "os.path.join(path_wavelets, 'Euclid-NISP-H-ERO-Abell2390-LSB.DR3.rot.crop.warp.input.synth.cirrus_lvl5.fits')"
   ]
  },
  {
   "cell_type": "code",
   "execution_count": 84,
   "id": "35fd343f-dab5-498a-989c-a02af8b42e29",
   "metadata": {},
   "outputs": [
    {
     "name": "stdout",
     "output_type": "stream",
     "text": [
      "/home/aellien/Euclid_ERO/wavelets/out13/Euclid-NISP-J-ERO-Abell2390-LSB.DR3.rot.crop.warp.input.synth.cirrus_res_altpass2.fits\n",
      "Warp 0.21 started on Wed Aug  7 03:09:54 2024\n",
      " Using 20 CPU threads.\n",
      " Input: /home/aellien/Euclid_ERO/wavelets/out13/Euclid-NISP-J-ERO-Abell2390-LSB.DR3.rot.crop.warp.input.synth.cirrus_res_altpass2.fits (hdu: 3)\n",
      " matrix:\n",
      "\t 4.0000    0.0000    0.0000\n",
      "\t 0.0000    4.0000    0.0000\n",
      "\t 0.0000    0.0000    1.0000\n"
     ]
    },
    {
     "name": "stderr",
     "output_type": "stream",
     "text": [
      "astwarp: gal_fits_key_write_filename: WARNING: the filename '/home/aellien/Euclid_ERO/wavelets/out13/Euclid-NISP-J-ERO-Abell2390-LSB.DR3.rot.crop.warp.input.synth.cirrus_res_altpass2.fits' (not including directories) is too long to fit into a FITS keyword value (max of 68 characters). It will therefore be truncated. If you are using Gnuastro's programs, this message is only about the metadata (keyword that keeps name of input), so it won't affect the output analysis and data. In this case, you can suppress this warning message with a '--quiet' option\n",
      "astwarp: gal_fits_key_write_filename: WARNING: the filename '/home/aellien/Euclid_ERO/wavelets/out13/Euclid-NISP-J-ERO-Abell2390-LSB.DR3.rot.crop.warp.input.synth.cirrus_res_altpass2.fits' (not including directories) is too long to fit into a FITS keyword value (max of 68 characters). It will therefore be truncated. If you are using Gnuastro's programs, this message is only about the metadata (keyword that keeps name of input), so it won't affect the output analysis and data. In this case, you can suppress this warning message with a '--quiet' option\n"
     ]
    },
    {
     "name": "stdout",
     "output_type": "stream",
     "text": [
      " Output: /home/aellien/Euclid_ERO/wavelets/out13/Euclid-NISP-J-ERO-Abell2390-LSB.DR3.rot.crop.synth.cirrus.bkg_sub.fits\n",
      "Warp finished in:  2.172517 seconds\n",
      "Warp 0.21 started on Wed Aug  7 03:09:56 2024\n",
      " Using 20 CPU threads.\n",
      " Input: /home/aellien/Euclid_ERO/wavelets/out13/Euclid-NISP-J-ERO-Abell2390-LSB.DR3.rot.crop.synth.cirrus.bkg_sub.fits (hdu: 1)\n",
      " matrix:\n",
      "\t 0.4226   -0.9063    0.0000\n",
      "\t 0.9063    0.4226    0.0000\n",
      "\t 0.0000    0.0000    1.0000\n"
     ]
    },
    {
     "name": "stderr",
     "output_type": "stream",
     "text": [
      "astwarp: gal_fits_key_write_filename: WARNING: the filename '/home/aellien/Euclid_ERO/wavelets/out13/Euclid-NISP-J-ERO-Abell2390-LSB.DR3.rot.crop.synth.cirrus.bkg_sub.fits' (not including directories) is too long to fit into a FITS keyword value (max of 68 characters). It will therefore be truncated. If you are using Gnuastro's programs, this message is only about the metadata (keyword that keeps name of input), so it won't affect the output analysis and data. In this case, you can suppress this warning message with a '--quiet' option\n",
      "astwarp: gal_fits_key_write_filename: WARNING: the filename '/home/aellien/Euclid_ERO/wavelets/out13/Euclid-NISP-J-ERO-Abell2390-LSB.DR3.rot.crop.synth.cirrus.bkg_sub.fits' (not including directories) is too long to fit into a FITS keyword value (max of 68 characters). It will therefore be truncated. If you are using Gnuastro's programs, this message is only about the metadata (keyword that keeps name of input), so it won't affect the output analysis and data. In this case, you can suppress this warning message with a '--quiet' option\n"
     ]
    },
    {
     "name": "stdout",
     "output_type": "stream",
     "text": [
      " Output: /home/aellien/Euclid_ERO/wavelets/out13/Euclid-NISP-J-ERO-Abell2390-LSB.DR3.crop.synth.cirrus.bkg_sub.fits\n",
      "Warp finished in:  7.335535 seconds\n",
      "done\n"
     ]
    }
   ],
   "source": [
    "# Resize to original size and rotate to original orientation\n",
    "nfdl = [ {'infile':'Euclid-NISP-J-ERO-Abell2390-LSB.DR3.rot.crop.warp.input.synth.cirrus_res_altpass2.fits', 'filter':'J'} ]\n",
    "for nfd in nfdl:\n",
    "\n",
    "    infile = os.path.join(path_wavelets, nfd['infile'])\n",
    "    filt = nfd['filter']\n",
    "    print(infile)\n",
    "    hdu = fits.open(infile)\n",
    "    cirim, header = hdu[3].data, hdu[3].header\n",
    "\n",
    "    # original pixel size\n",
    "    warp = os.path.join(path_wavelets, 'Euclid-NISP-%s-ERO-Abell2390-LSB.DR3.rot.crop.synth.cirrus.bkg_sub.fits'%filt)\n",
    "    subprocess.run(['astwarp', '--scale=4.', '-h3', '--output=%s'%warp, infile])\n",
    "\n",
    "    # rot\n",
    "    rot = os.path.join(path_wavelets, 'Euclid-NISP-%s-ERO-Abell2390-LSB.DR3.crop.synth.cirrus.bkg_sub.fits'%filt)\n",
    "    subprocess.run(['astwarp', '--rotate=-295', '-h1', warp, '--output=%s'%rot])\n",
    "\n",
    "print('done')"
   ]
  },
  {
   "cell_type": "code",
   "execution_count": 73,
   "id": "aa8ec842-061c-443d-b91b-21effc1ef8bd",
   "metadata": {},
   "outputs": [
    {
     "name": "stdout",
     "output_type": "stream",
     "text": [
      "Final_output_JGM_Abellfinal_psf_sub_Hv1_vC1_v24.fits\n",
      "Warp 0.21 started on Tue Aug  6 15:42:35 2024\n",
      " Using 20 CPU threads.\n",
      " Input: /home/aellien/Euclid_ERO/data/Euclid-NISP-Stack-ERO-Abell2390.DR3/Abell2390_NISP_starsubtraction/Final_output_JGM_Abellfinal_psf_sub_Hv1_vC1_v24.fits (hdu: 0)\n",
      " matrix:\n",
      "\t 0.4226    0.9063    0.0000\n",
      "\t-0.9063    0.4226    0.0000\n",
      "\t 0.0000    0.0000    1.0000\n",
      " Output: /home/aellien/Euclid_ERO/data/Euclid-NISP-Stack-ERO-Abell2390.DR3/Abell2390_NISP_starsubtraction/Euclid-NISP-H-ERO-Abell2390-LSB.DR3.rot.fits\n",
      "Warp finished in:  18.050690 seconds\n",
      "Crop 0.21 started on Tue Aug  6 15:42:53 2024\n",
      "  - Read metadata of 1 dataset.                        0.001703 seconds\n",
      "  ---- ...l2390-LSB.DR3.rot.crop.fits created: 1 input.\n",
      "Crop finished in:  1.168670 seconds\n",
      "Warp 0.21 started on Tue Aug  6 15:42:54 2024\n",
      " Using 20 CPU threads.\n",
      " Input: /home/aellien/Euclid_ERO/data/Euclid-NISP-Stack-ERO-Abell2390.DR3/Abell2390_NISP_starsubtraction/Euclid-NISP-H-ERO-Abell2390-LSB.DR3.rot.crop.fits (hdu: 1)\n",
      " matrix:\n",
      "\t 0.4226   -0.9063    0.0000\n",
      "\t 0.9063    0.4226    0.0000\n",
      "\t 0.0000    0.0000    1.0000\n",
      " Output: /home/aellien/Euclid_ERO/data/Euclid-NISP-Stack-ERO-Abell2390.DR3/Abell2390_NISP_starsubtraction/Euclid-NISP-H-ERO-Abell2390-LSB.DR3.revrot.fits\n",
      "Warp finished in:  7.214223 seconds\n",
      "done\n"
     ]
    }
   ],
   "source": [
    "# Make original image with same size as cirim\n",
    "nfdl = [ {'infile':'Final_output_JGM_Abellfinal_psf_sub_Hv1_vC1_v24.fits', 'filter':'H'} ]\n",
    "\n",
    "for nfd in nfdl:\n",
    "    \n",
    "    print(nfd['infile'])\n",
    "    filt = nfd['filter']\n",
    "    infile = os.path.join(path_sub_data, nfd['infile'])\n",
    "    hdu = fits.open(infile)\n",
    "    oim, header = hdu[0].data, hdu[0].header\n",
    "\n",
    "    # rot\n",
    "    rot = os.path.join(path_sub_data, 'Euclid-NISP-%s-ERO-Abell2390-LSB.DR3.rot.fits'%filt)\n",
    "    subprocess.run(['astwarp', '--rotate=295', '-h0', infile, '--output=%s'%rot])\n",
    "\n",
    "    # crop\n",
    "    crop = os.path.join(path_sub_data, 'Euclid-NISP-%s-ERO-Abell2390-LSB.DR3.rot.crop.fits'%filt)\n",
    "    subprocess.run(['astcrop', '--mode=wcs', '--center=328.40009,17.699051', '--width=0.75,0.75', '-h1', '--output=%s'%crop, rot])\n",
    "\n",
    "    # reverse rot\n",
    "    revrot = os.path.join(path_sub_data, 'Euclid-NISP-%s-ERO-Abell2390-LSB.DR3.revrot.fits'%filt)\n",
    "    subprocess.run(['astwarp', '--rotate=-295', '-h1', crop, '--output=%s'%revrot])\n",
    "\n",
    "print('done')"
   ]
  },
  {
   "cell_type": "code",
   "execution_count": 88,
   "id": "86dcc79c-0d7e-4ffd-8aa9-afbb31ad918f",
   "metadata": {},
   "outputs": [
    {
     "name": "stdout",
     "output_type": "stream",
     "text": [
      "Euclid-NISP-H-ERO-Abell2390-LSB.DR3.revrot.fits\n",
      "done\n"
     ]
    }
   ],
   "source": [
    "# Final product for public\n",
    "nfdl = [ {'infile':'Euclid-NISP-H-ERO-Abell2390-LSB.DR3.revrot.fits', 'filter':'H'} ]\n",
    "\n",
    "for nfd in nfdl:\n",
    "    \n",
    "    print(nfd['infile'])\n",
    "    filt = nfd['filter']\n",
    "    infile = os.path.join(path_sub_data, nfd['infile'])\n",
    "    hdu = fits.open(infile)\n",
    "    oim, header = hdu[1].data[:11962, :11962], hdu[1].header\n",
    "    #noise_pixels, val_max = dawis.sample_noise(oim, n_sigmas = 3, bins = 300)\n",
    "\n",
    "    cirim = fits.getdata(os.path.join(path_wavelets, 'Euclid-NISP-%s-ERO-Abell2390-LSB.DR3.crop.synth.cirrus.bkg_sub.fits'%filt))[:11962, :11962]\n",
    "    \n",
    "    hduo = fits.PrimaryHDU()\n",
    "    hdu_oim = fits.ImageHDU(oim, header = header, name = 'ORIGINAL')\n",
    "    hdu_clean = fits.ImageHDU(oim - cirim, header = header, name = 'CLEANED BKG-SUBTR.')\n",
    "    hdu_cirim = fits.ImageHDU(cirim, header = header, name = 'CIRRUS+BKG')\n",
    "    #hdu_derim = fits.ImageHDU(derim, header = header, name = 'RMS')\n",
    "    \n",
    "    hdul = fits.HDUList([hduo, hdu_oim, hdu_clean, hdu_cirim ])\n",
    "    hdul.writeto(os.path.join(path_sub_data, 'Euclid-NISP-%s-ERO-Abell2390-LSB.DR3.crop.synth.cirrus_lvl5.bkg_sub.fits'%filt), overwrite = True)\n",
    "\n",
    "print('done')"
   ]
  },
  {
   "cell_type": "code",
   "execution_count": 91,
   "id": "d6d8fbe9-d605-4e8a-87fe-7f38844d6d7f",
   "metadata": {},
   "outputs": [
    {
     "name": "stdout",
     "output_type": "stream",
     "text": [
      "Euclid-NISP-H-ERO-Abell2390-LSB.DR3.crop.synth.cirrus_lvl6.bkg_sub.fits\n",
      "Crop 0.21 started on Wed Aug  7 12:05:13 2024\n",
      "  - Read metadata of 1 dataset.                        0.001155 seconds\n"
     ]
    },
    {
     "name": "stderr",
     "output_type": "stream",
     "text": [
      "astcrop: gal_fits_key_write_filename: WARNING: the filename '/home/aellien/Euclid_ERO/data/Euclid-NISP-Stack-ERO-Abell2390.DR3/Abell2390_NISP_starsubtraction/final/Euclid-NISP-H-ERO-Abell2390-LSB.DR3.crop.synth.cirrus_lvl6.bkg_sub.fits' (not including directories) is too long to fit into a FITS keyword value (max of 68 characters). It will therefore be truncated. If you are using Gnuastro's programs, this message is only about the metadata (keyword that keeps name of input), so it won't affect the output analysis and data. In this case, you can suppress this warning message with a '--quiet' option\n"
     ]
    },
    {
     "name": "stdout",
     "output_type": "stream",
     "text": [
      "  ---- ...synth.cirrus_lvl6.crop.fits created: 1 input.\n",
      "Crop finished in:  0.218928 seconds\n",
      "Euclid-NISP-J-ERO-Abell2390-LSB.DR3.crop.synth.cirrus_lvl6.bkg_sub.fits\n",
      "Crop 0.21 started on Wed Aug  7 12:05:13 2024\n",
      "  - Read metadata of 1 dataset.                        0.000901 seconds\n",
      "  ---- ...synth.cirrus_lvl6.crop.fits created: 1 input.\n",
      "Crop finished in:  0.213999 seconds\n",
      "Euclid-NISP-Y-ERO-Abell2390-LSB.DR3.crop.synth.cirrus_lvl6.bkg_sub.fits\n"
     ]
    },
    {
     "name": "stderr",
     "output_type": "stream",
     "text": [
      "astcrop: gal_fits_key_write_filename: WARNING: the filename '/home/aellien/Euclid_ERO/data/Euclid-NISP-Stack-ERO-Abell2390.DR3/Abell2390_NISP_starsubtraction/final/Euclid-NISP-J-ERO-Abell2390-LSB.DR3.crop.synth.cirrus_lvl6.bkg_sub.fits' (not including directories) is too long to fit into a FITS keyword value (max of 68 characters). It will therefore be truncated. If you are using Gnuastro's programs, this message is only about the metadata (keyword that keeps name of input), so it won't affect the output analysis and data. In this case, you can suppress this warning message with a '--quiet' option\n"
     ]
    },
    {
     "name": "stdout",
     "output_type": "stream",
     "text": [
      "Crop 0.21 started on Wed Aug  7 12:05:13 2024\n",
      "  - Read metadata of 1 dataset.                        0.000881 seconds\n",
      "  ---- ...synth.cirrus_lvl6.crop.fits created: 1 input.\n",
      "Crop finished in:  0.212968 seconds\n"
     ]
    },
    {
     "name": "stderr",
     "output_type": "stream",
     "text": [
      "astcrop: gal_fits_key_write_filename: WARNING: the filename '/home/aellien/Euclid_ERO/data/Euclid-NISP-Stack-ERO-Abell2390.DR3/Abell2390_NISP_starsubtraction/final/Euclid-NISP-Y-ERO-Abell2390-LSB.DR3.crop.synth.cirrus_lvl6.bkg_sub.fits' (not including directories) is too long to fit into a FITS keyword value (max of 68 characters). It will therefore be truncated. If you are using Gnuastro's programs, this message is only about the metadata (keyword that keeps name of input), so it won't affect the output analysis and data. In this case, you can suppress this warning message with a '--quiet' option\n"
     ]
    }
   ],
   "source": [
    "# Input for DAWIS\n",
    "nfdl = [ {'infile':'Euclid-NISP-H-ERO-Abell2390-LSB.DR3.crop.synth.cirrus_lvl6.bkg_sub.fits', 'filter':'H'},\n",
    "        {'infile':'Euclid-NISP-J-ERO-Abell2390-LSB.DR3.crop.synth.cirrus_lvl6.bkg_sub.fits', 'filter':'J'}, \n",
    "        {'infile':'Euclid-NISP-Y-ERO-Abell2390-LSB.DR3.crop.synth.cirrus_lvl6.bkg_sub.fits', 'filter':'Y'} ]\n",
    "for nfd in nfdl:\n",
    "    \n",
    "    print(nfd['infile'])\n",
    "    filt = nfd['filter']\n",
    "    infile = os.path.join(path_sub_data, 'final', nfd['infile'])\n",
    "    \n",
    "    # crop\n",
    "    crop = os.path.join(path_sub_data, 'final', 'Euclid-NISP-%s-ERO-Abell2390-LSB.DR3.crop.synth.cirrus_lvl6.crop.fits'%filt)\n",
    "    subprocess.run(['astcrop', '--mode=wcs', '--center=328.40009,17.699051', '--width=0.3,0.3', '-h2', '--output=%s'%crop, infile])\n",
    "\n",
    "    # dawis input rdy\n",
    "    input = os.path.join(path_sub_data, 'final', 'Euclid-NISP-%s-ERO-Abell2390-LSB.DR3.crop.synth.cirrus_lvl6.bkg_sub.input.fits'%filt)\n",
    "    subprocess.run(['astfits', crop, '--copy=1', '--output=%s'%input, '--primaryimghdu'])"
   ]
  },
  {
   "cell_type": "code",
   "execution_count": 44,
   "id": "6b7ce676-1014-429b-80da-8632d59834ab",
   "metadata": {},
   "outputs": [],
   "source": [
    "# Make mask regions covering mock clusters\n",
    "hdu = fits.open(os.path.join(path_sub_data, 'Final_output_JGM_Abellfinal_psf_sub_Hv1_vC1_v24.rot.crop.warp.input.fits'))\n",
    "oim, header = hdu[0].data, hdu[0].header\n",
    "r = pyregion.open('/home/aellien/Euclid_ERO/analysis/callum_mock_clusters_circles_0.6arcmin_pix.reg')\n",
    "m = r.get_mask(hdu = hdu[0])\n",
    "hduo = fits.PrimaryHDU(m.astype(float), header = header)\n",
    "hduo.writeto('/home/aellien/Euclid_ERO/analysis/mask_mock_clusters.fits', overwrite = True)"
   ]
  },
  {
   "cell_type": "code",
   "execution_count": 49,
   "id": "749412cf-537a-47c7-932a-ee78d1b64180",
   "metadata": {},
   "outputs": [
    {
     "data": {
      "image/png": "[encoded data removed]",
      "text/plain": [
       "<Figure size 640x480 with 1 Axes>"
      ]
     },
     "metadata": {},
     "output_type": "display_data"
    }
   ],
   "source": [
    "# ptit test\n",
    "hdu = fits.open(os.path.join(path_data, 'Euclid-NISP-H-ERO-Abell2390-LSB.DR3.rot.crop.warp.input.fits'))\n",
    "oim, header = hdu[0].data, hdu[0].header\n",
    "r = pyr.open(os.path.join(path_analysis, 'cluster_cirrus_mask_NISP_pix.reg'))\n",
    "mcl = r.get_mask(hdu = hdu[0])\n",
    "mmock = fits.open(os.path.join(path_analysis, 'mask_mock_clusters.fits'))[0].data\n",
    "mcl = mcl.astype(float) + mmock.astype(float)\n",
    "mcl[mcl > 0] = 1\n",
    "\n",
    "plt.figure()\n",
    "plt.imshow(mcl, origin = 'lower')\n",
    "plt.show()"
   ]
  },
  {
   "cell_type": "code",
   "execution_count": null,
   "id": "daf82d75-6f2f-4724-a7db-41be6b41d801",
   "metadata": {},
   "outputs": [],
   "source": []
  }
 ],
 "metadata": {
  "kernelspec": {
   "display_name": "Python 3 (ipykernel)",
   "language": "python",
   "name": "python3"
  },
  "language_info": {
   "codemirror_mode": {
    "name": "ipython",
    "version": 3
   },
   "file_extension": ".py",
   "mimetype": "text/x-python",
   "name": "python",
   "nbconvert_exporter": "python",
   "pygments_lexer": "ipython3",
   "version": "3.11.6"
  }
 },
 "nbformat": 4,
 "nbformat_minor": 5
}
