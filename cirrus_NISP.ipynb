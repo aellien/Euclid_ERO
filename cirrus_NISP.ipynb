{
 "cells": [
  {
   "cell_type": "code",
   "execution_count": 1,
   "id": "e204c973-0f97-4933-b299-59a871f6c44d",
   "metadata": {},
   "outputs": [],
   "source": [
    "import sys\n",
    "import dawis as d\n",
    "import glob as glob\n",
    "import os\n",
    "import numpy as np\n",
    "import pyregion as pyr\n",
    "import random\n",
    "import gc\n",
    "import h5py\n",
    "import dawis\n",
    "import matplotlib as mpl\n",
    "import pandas as pd\n",
    "import matplotlib.pyplot as plt\n",
    "from mpl_toolkits.axes_grid1 import make_axes_locatable\n",
    "from astropy.io import fits\n",
    "from astropy.visualization import *\n",
    "from scipy.stats import kurtosis\n",
    "from power_ratio import *\n",
    "from datetime import datetime\n",
    "from photutils.segmentation import SourceCatalog, detect_sources\n",
    "from photutils.background import Background2D, MedianBackground\n",
    "import make_results_ERO_noray\n",
    "import tracemalloc\n",
    "import matplotlib\n",
    "import cmasher\n",
    "from astropy.wcs import WCS\n",
    "from scipy.ndimage import gaussian_filter\n",
    "from matplotlib.patches import Rectangle\n",
    "from astropy.stats import sigma_clip, SigmaClip\n",
    "import subprocess\n"
   ]
  },
  {
   "cell_type": "code",
   "execution_count": 2,
   "id": "b16ffa5b-e18a-43d7-87b5-9bb3fa79f08a",
   "metadata": {},
   "outputs": [],
   "source": [
    "# Paths, lists & variables\n",
    "path_data = '/home/aellien/Euclid_ERO/data/Euclid-NISP-Stack-ERO-Abell2390.DR3'\n",
    "path_scripts = '/home/aellien/Euclid_ERO/Euclid_ERO_scripts'\n",
    "path_wavelets = '/home/aellien/Euclid_ERO/wavelets/out11/'\n",
    "path_plots = '/home/aellien/Euclid_ERO/plots'\n",
    "path_analysis = '/home/aellien/Euclid_ERO/analysis/'\n",
    "\n",
    "hdu = fits.open('/home/aellien/Euclid_ERO/data/Euclid-NISP-Stack-ERO-Abell2390.DR3/Euclid-NISP-H-ERO-Abell2390-LSB.DR3.masked.rot.crop.warp.input.fits')\n",
    "header = hdu[0].header\n",
    "oim = hdu[0].data\n",
    "xs, ys = oim.shape"
   ]
  },
  {
   "cell_type": "code",
   "execution_count": 26,
   "id": "6dd8fcc2-8736-4abe-977c-d955fd5417e2",
   "metadata": {},
   "outputs": [],
   "source": [
    "# Make masks of all objects\n",
    "hdu1 = fits.open(os.path.join(path_analysis, 'Abell_2390_NISP_mask_all_but_bcg_full_img_H.fits'))\n",
    "m_all_but_bcg = hdu1[0].data\n",
    "hdu2 = fits.open(os.path.join(path_analysis, 'Abell_2390_NISP_mask_all_but_clmembers_full_img_H.fits'))\n",
    "m_all_but_clmembers = hdu2[0].data\n",
    "\n",
    "m_all = np.copy(m_all_but_bcg.astype(bool))\n",
    "m_all[np.where((m_all_but_clmembers.astype(bool) == False) & (m_all == True)) ] = False\n",
    "m_all = m_all.astype(int)\n",
    "\n",
    "hduo = fits.PrimaryHDU(m_all, header = hdu1[0].header) \n",
    "hduo.writeto(os.path.join(path_analysis, 'Abell_2390_NISP_mask_all_full_img_H.fits'))"
   ]
  },
  {
   "cell_type": "code",
   "execution_count": 89,
   "id": "ba8de608-cf76-40e5-b98e-e18fc4df93f5",
   "metadata": {},
   "outputs": [
    {
     "name": "stdout",
     "output_type": "stream",
     "text": [
      "/home/aellien/Euclid_ERO/data/Euclid-NISP-Stack-ERO-Abell2390.DR3/Euclid-NISP-H-ERO-Abell2390-LSB.DR3.fits\n"
     ]
    },
    {
     "name": "stderr",
     "output_type": "stream",
     "text": [
      "WARNING: Input data contains invalid values (NaNs or infs), which were automatically clipped. [astropy.stats.sigma_clipping]\n"
     ]
    },
    {
     "name": "stdout",
     "output_type": "stream",
     "text": [
      "Warp 0.21 started on Sun Jul 14 12:48:21 2024\n",
      " Using 20 CPU threads.\n",
      " Input: /home/aellien/Euclid_ERO/data/Euclid-NISP-Stack-ERO-Abell2390.DR3/Euclid-NISP-H-ERO-Abell2390-LSB.DR3.masked.fits (hdu: 0)\n",
      " matrix:\n",
      "\t 0.4226    0.9063    0.0000\n",
      "\t-0.9063    0.4226    0.0000\n",
      "\t 0.0000    0.0000    1.0000\n",
      " Output: /home/aellien/Euclid_ERO/data/Euclid-NISP-Stack-ERO-Abell2390.DR3/Euclid-NISP-H-ERO-Abell2390-LSB.DR3.masked.rot.fits\n",
      "Warp finished in:  18.026429 seconds\n",
      "Crop 0.21 started on Sun Jul 14 12:48:39 2024\n",
      "  - Read metadata of 1 dataset.                        0.001318 seconds\n",
      "  ---- ...SB.DR3.masked.rot.crop.fits created: 1 input.\n",
      "Crop finished in:  1.197804 seconds\n",
      "Warp 0.21 started on Sun Jul 14 12:48:40 2024\n",
      " Using 20 CPU threads.\n",
      " Input: /home/aellien/Euclid_ERO/data/Euclid-NISP-Stack-ERO-Abell2390.DR3/Euclid-NISP-H-ERO-Abell2390-LSB.DR3.masked.rot.crop.fits (hdu: 1)\n",
      " matrix:\n",
      "\t 0.2500    0.0000    0.0000\n",
      "\t 0.0000    0.2500    0.0000\n",
      "\t 0.0000    0.0000    1.0000\n",
      " Output: /home/aellien/Euclid_ERO/data/Euclid-NISP-Stack-ERO-Abell2390.DR3/Euclid-NISP-H-ERO-Abell2390-LSB.DR3.masked.rot.crop.warp.fits\n",
      "Warp finished in:  1.998740 seconds\n",
      "/home/aellien/Euclid_ERO/data/Euclid-NISP-Stack-ERO-Abell2390.DR3/Euclid-NISP-J-ERO-Abell2390-LSB.DR3.fits\n"
     ]
    },
    {
     "name": "stderr",
     "output_type": "stream",
     "text": [
      "WARNING: Input data contains invalid values (NaNs or infs), which were automatically clipped. [astropy.stats.sigma_clipping]\n"
     ]
    },
    {
     "name": "stdout",
     "output_type": "stream",
     "text": [
      "Warp 0.21 started on Sun Jul 14 12:49:01 2024\n",
      " Using 20 CPU threads.\n",
      " Input: /home/aellien/Euclid_ERO/data/Euclid-NISP-Stack-ERO-Abell2390.DR3/Euclid-NISP-J-ERO-Abell2390-LSB.DR3.masked.fits (hdu: 0)\n",
      " matrix:\n",
      "\t 0.4226    0.9063    0.0000\n",
      "\t-0.9063    0.4226    0.0000\n",
      "\t 0.0000    0.0000    1.0000\n",
      " Output: /home/aellien/Euclid_ERO/data/Euclid-NISP-Stack-ERO-Abell2390.DR3/Euclid-NISP-J-ERO-Abell2390-LSB.DR3.masked.rot.fits\n",
      "Warp finished in:  18.481371 seconds\n",
      "Crop 0.21 started on Sun Jul 14 12:49:20 2024\n",
      "  - Read metadata of 1 dataset.                        0.000885 seconds\n",
      "  ---- ...SB.DR3.masked.rot.crop.fits created: 1 input.\n",
      "Crop finished in:  1.109867 seconds\n",
      "Warp 0.21 started on Sun Jul 14 12:49:21 2024\n",
      " Using 20 CPU threads.\n",
      " Input: /home/aellien/Euclid_ERO/data/Euclid-NISP-Stack-ERO-Abell2390.DR3/Euclid-NISP-J-ERO-Abell2390-LSB.DR3.masked.rot.crop.fits (hdu: 1)\n",
      " matrix:\n",
      "\t 0.2500    0.0000    0.0000\n",
      "\t 0.0000    0.2500    0.0000\n",
      "\t 0.0000    0.0000    1.0000\n",
      " Output: /home/aellien/Euclid_ERO/data/Euclid-NISP-Stack-ERO-Abell2390.DR3/Euclid-NISP-J-ERO-Abell2390-LSB.DR3.masked.rot.crop.warp.fits\n",
      "Warp finished in:  2.122005 seconds\n",
      "/home/aellien/Euclid_ERO/data/Euclid-NISP-Stack-ERO-Abell2390.DR3/Euclid-NISP-Y-ERO-Abell2390-LSB.DR3.fits\n"
     ]
    },
    {
     "name": "stderr",
     "output_type": "stream",
     "text": [
      "WARNING: Input data contains invalid values (NaNs or infs), which were automatically clipped. [astropy.stats.sigma_clipping]\n"
     ]
    },
    {
     "name": "stdout",
     "output_type": "stream",
     "text": [
      "Warp 0.21 started on Sun Jul 14 12:49:42 2024\n",
      " Using 20 CPU threads.\n",
      " Input: /home/aellien/Euclid_ERO/data/Euclid-NISP-Stack-ERO-Abell2390.DR3/Euclid-NISP-Y-ERO-Abell2390-LSB.DR3.masked.fits (hdu: 0)\n",
      " matrix:\n",
      "\t 0.4226    0.9063    0.0000\n",
      "\t-0.9063    0.4226    0.0000\n",
      "\t 0.0000    0.0000    1.0000\n",
      " Output: /home/aellien/Euclid_ERO/data/Euclid-NISP-Stack-ERO-Abell2390.DR3/Euclid-NISP-Y-ERO-Abell2390-LSB.DR3.masked.rot.fits\n",
      "Warp finished in:  18.727742 seconds\n",
      "Crop 0.21 started on Sun Jul 14 12:50:01 2024\n",
      "  - Read metadata of 1 dataset.                        0.000815 seconds\n",
      "  ---- ...SB.DR3.masked.rot.crop.fits created: 1 input.\n",
      "Crop finished in:  1.136072 seconds\n",
      "Warp 0.21 started on Sun Jul 14 12:50:02 2024\n",
      " Using 20 CPU threads.\n",
      " Input: /home/aellien/Euclid_ERO/data/Euclid-NISP-Stack-ERO-Abell2390.DR3/Euclid-NISP-Y-ERO-Abell2390-LSB.DR3.masked.rot.crop.fits (hdu: 1)\n",
      " matrix:\n",
      "\t 0.2500    0.0000    0.0000\n",
      "\t 0.0000    0.2500    0.0000\n",
      "\t 0.0000    0.0000    1.0000\n",
      " Output: /home/aellien/Euclid_ERO/data/Euclid-NISP-Stack-ERO-Abell2390.DR3/Euclid-NISP-Y-ERO-Abell2390-LSB.DR3.masked.rot.crop.warp.fits\n",
      "Warp finished in:  1.898204 seconds\n",
      "done\n"
     ]
    }
   ],
   "source": [
    "# Apply mask & inpaint & preprocessing\n",
    "for infile in glob.glob(os.path.join(path_data, 'Euclid-NISP-?-ERO-Abell2390-LSB.DR3.fits')):\n",
    "    \n",
    "    print(infile)\n",
    "    filt = infile[-28]\n",
    "    hdu = fits.open(os.path.join(path_data, infile))\n",
    "    oim, header = hdu[0].data, hdu[0].header\n",
    "    mask = fits.getdata(os.path.join(path_analysis, 'Abell_2390_NISP_mask_all_full_img_H.fits'))\n",
    "\n",
    "    # mask\n",
    "    moim = np.copy(oim)\n",
    "    moim[~mask.astype(bool)] = np.nan\n",
    "\n",
    "    # inpaint\n",
    "    noise_pixels, val_max = dawis.sample_noise(moim, n_sigmas = 3, bins = 300)\n",
    "    mean, std = np.mean(noise_pixels), np.std(noise_pixels)\n",
    "    mask = np.zeros(moim.shape)\n",
    "    mask[ moim < -abs(5 * std) ] = 1.\n",
    "    mask[np.where(np.isnan(moim) == True)] = 1.\n",
    "    draws = np.random.normal(mean, std, moim.shape)\n",
    "    mask *= draws\n",
    "    moim[ moim < -abs(5 * std) ] = 0.\n",
    "    moim[ np.where(np.isnan(moim) == True)] = 0.\n",
    "    moim += mask\n",
    "    hduo = fits.PrimaryHDU(moim, header = header)\n",
    "    hduo.writeto(os.path.join(path_data, 'Euclid-NISP-%s-ERO-Abell2390-LSB.DR3.masked.fits'%filt), overwrite = True)\n",
    "\n",
    "    # rot\n",
    "    masked = os.path.join(path_data, 'Euclid-NISP-%s-ERO-Abell2390-LSB.DR3.masked.fits'%filt)\n",
    "    rot = os.path.join(path_data, 'Euclid-NISP-%s-ERO-Abell2390-LSB.DR3.masked.rot.fits'%filt)\n",
    "    subprocess.run(['astwarp', '--rotate=295', '-h0', masked, '--output=%s'%rot])\n",
    "\n",
    "    # crop\n",
    "    crop = os.path.join(path_data, 'Euclid-NISP-%s-ERO-Abell2390-LSB.DR3.masked.rot.crop.fits'%filt)\n",
    "    subprocess.run(['astcrop', '--mode=wcs', '--center=328.40009,17.699051', '--width=0.75,0.75', '-h1', '--output=%s'%crop, rot])\n",
    "\n",
    "    # warp\n",
    "    warp = os.path.join(path_data, 'Euclid-NISP-%s-ERO-Abell2390-LSB.DR3.masked.rot.crop.warp.fits'%filt)\n",
    "    subprocess.run(['astwarp', '--scale=1./4.', '-h1', '--output=%s'%warp, crop])\n",
    "\n",
    "    # dawis input rdy\n",
    "    input = os.path.join(path_data, 'Euclid-NISP-%s-ERO-Abell2390-LSB.DR3.masked.rot.crop.warp.input.fits'%filt)\n",
    "    subprocess.run(['astfits', warp, '--copy=1', '--output=%s'%input, '--primaryimghdu'])\n",
    "\n",
    "print('done')"
   ]
  },
  {
   "cell_type": "code",
   "execution_count": 23,
   "id": "e182a222-c6d5-4e60-b30d-d4cb7465c8d1",
   "metadata": {},
   "outputs": [
    {
     "name": "stdout",
     "output_type": "stream",
     "text": [
      "/home/aellien/Euclid_ERO/data/Euclid-NISP-Stack-ERO-Abell2390.DR3/Euclid-NISP-H-ERO-Abell2390-LSB.DR3.fits\n",
      "Warp 0.21 started on Mon Jul 22 11:51:59 2024\n",
      " Using 20 CPU threads.\n",
      " Input: /home/aellien/Euclid_ERO/data/Euclid-NISP-Stack-ERO-Abell2390.DR3/Euclid-NISP-H-ERO-Abell2390-LSB.DR3.fits (hdu: 0)\n",
      " matrix:\n",
      "\t 0.4226    0.9063    0.0000\n",
      "\t-0.9063    0.4226    0.0000\n",
      "\t 0.0000    0.0000    1.0000\n",
      " Output: /home/aellien/Euclid_ERO/data/Euclid-NISP-Stack-ERO-Abell2390.DR3/Euclid-NISP-H-ERO-Abell2390-LSB.DR3.rot.fits\n",
      "Warp finished in:  17.781440 seconds\n",
      "Crop 0.21 started on Mon Jul 22 11:52:17 2024\n",
      "  - Read metadata of 1 dataset.                        0.000989 seconds\n",
      "  ---- ...l2390-LSB.DR3.rot.crop.fits created: 1 input.\n",
      "Crop finished in:  1.131710 seconds\n",
      "/home/aellien/Euclid_ERO/data/Euclid-NISP-Stack-ERO-Abell2390.DR3/Euclid-NISP-J-ERO-Abell2390-LSB.DR3.fits\n",
      "Warp 0.21 started on Mon Jul 22 11:52:18 2024\n",
      " Using 20 CPU threads.\n",
      " Input: /home/aellien/Euclid_ERO/data/Euclid-NISP-Stack-ERO-Abell2390.DR3/Euclid-NISP-J-ERO-Abell2390-LSB.DR3.fits (hdu: 0)\n",
      " matrix:\n",
      "\t 0.4226    0.9063    0.0000\n",
      "\t-0.9063    0.4226    0.0000\n",
      "\t 0.0000    0.0000    1.0000\n",
      " Output: /home/aellien/Euclid_ERO/data/Euclid-NISP-Stack-ERO-Abell2390.DR3/Euclid-NISP-J-ERO-Abell2390-LSB.DR3.rot.fits\n",
      "Warp finished in:  17.491911 seconds\n",
      "Crop 0.21 started on Mon Jul 22 11:52:35 2024\n",
      "  - Read metadata of 1 dataset.                        0.000907 seconds\n",
      "  ---- ...l2390-LSB.DR3.rot.crop.fits created: 1 input.\n",
      "Crop finished in:  1.094037 seconds\n",
      "/home/aellien/Euclid_ERO/data/Euclid-NISP-Stack-ERO-Abell2390.DR3/Euclid-NISP-Y-ERO-Abell2390-LSB.DR3.fits\n",
      "Warp 0.21 started on Mon Jul 22 11:52:36 2024\n",
      " Using 20 CPU threads.\n",
      " Input: /home/aellien/Euclid_ERO/data/Euclid-NISP-Stack-ERO-Abell2390.DR3/Euclid-NISP-Y-ERO-Abell2390-LSB.DR3.fits (hdu: 0)\n",
      " matrix:\n",
      "\t 0.4226    0.9063    0.0000\n",
      "\t-0.9063    0.4226    0.0000\n",
      "\t 0.0000    0.0000    1.0000\n",
      " Output: /home/aellien/Euclid_ERO/data/Euclid-NISP-Stack-ERO-Abell2390.DR3/Euclid-NISP-Y-ERO-Abell2390-LSB.DR3.rot.fits\n",
      "Warp finished in:  19.933683 seconds\n",
      "Crop 0.21 started on Mon Jul 22 11:52:56 2024\n",
      "  - Read metadata of 1 dataset.                        0.930861 seconds\n",
      "  ---- ...l2390-LSB.DR3.rot.crop.fits created: 1 input.\n",
      "Crop finished in:  2.572700 seconds\n",
      "done\n"
     ]
    }
   ],
   "source": [
    "# Make same image without masking\n",
    "for infile in glob.glob(os.path.join(path_data, 'Euclid-NISP-?-ERO-Abell2390-LSB.DR3.fits')):\n",
    "    \n",
    "    print(infile)\n",
    "    filt = infile[-28]\n",
    "    hdu = fits.open(os.path.join(path_data, infile))\n",
    "    oim, header = hdu[0].data, hdu[0].header\n",
    "\n",
    "    # rot\n",
    "    rot = os.path.join(path_data, 'Euclid-NISP-%s-ERO-Abell2390-LSB.DR3.rot.fits'%filt)\n",
    "    subprocess.run(['astwarp', '--rotate=295', '-h0', infile, '--output=%s'%rot])\n",
    "\n",
    "    # crop\n",
    "    crop = os.path.join(path_data, 'Euclid-NISP-%s-ERO-Abell2390-LSB.DR3.rot.crop.fits'%filt)\n",
    "    subprocess.run(['astcrop', '--mode=wcs', '--center=328.40009,17.699051', '--width=0.75,0.75', '-h1', '--output=%s'%crop, rot])\n",
    "\n",
    "    # warp\n",
    "    warp = os.path.join(path_data, 'Euclid-NISP-%s-ERO-Abell2390-LSB.DR3.rot.crop.warp.fits'%filt)\n",
    "    subprocess.run(['astwarp', '--scale=1./4.', '-h1', '--output=%s'%warp, crop])\n",
    "\n",
    "    # dawis input rdy\n",
    "    input = os.path.join(path_data, 'Euclid-NISP-%s-ERO-Abell2390-LSB.DR3.rot.crop.warp.input.fits'%filt)\n",
    "    subprocess.run(['astfits', warp, '--copy=1', '--output=%s'%input, '--primaryimghdu'])\n",
    "\n",
    "print('done')"
   ]
  },
  {
   "cell_type": "code",
   "execution_count": 7,
   "id": "1ee7d2a4-37b8-4a07-baaf-8cc99d0bfc11",
   "metadata": {},
   "outputs": [
    {
     "name": "stdout",
     "output_type": "stream",
     "text": [
      "done\n"
     ]
    }
   ],
   "source": [
    "nfp = os.path.join(path_wavelets, 'Euclid-NISP-H-ERO-Abell2390-LSB.DR3.rot.crop.warp.input.')\n",
    "opath = nfp + '*ol.it*.hdf5'\n",
    "opathl = glob.glob(opath)\n",
    "opathl.sort()\n",
    "\n",
    "cirim3 = np.zeros((xs, ys))\n",
    "cirim4 = np.zeros((xs, ys))\n",
    "cirim5 = np.zeros((xs, ys))\n",
    "cirim6 = np.zeros((xs, ys))\n",
    "cirim7 = np.zeros((xs, ys))\n",
    "derim3 = np.zeros((xs, ys))\n",
    "derim4 = np.zeros((xs, ys))\n",
    "derim5 = np.zeros((xs, ys))\n",
    "derim6 = np.zeros((xs, ys))\n",
    "derim7 = np.zeros((xs, ys))\n",
    "recim = np.zeros((xs, ys))\n",
    "\n",
    "# avoid cluster region\n",
    "hdu = fits.open(os.path.join(path_data, 'Euclid-NISP-H-ERO-Abell2390-LSB.DR3.rot.crop.warp.input.fits'))\n",
    "oim, header = hdu[0].data, hdu[0].header\n",
    "r = pyr.open(os.path.join(path_analysis, 'cluster_cirrus_mask_NISP_pix.reg'))\n",
    "mcl = r.get_mask(hdu = hdu[0])\n",
    "\n",
    "# 245 H\n",
    "for i in range(1, 720):\n",
    "    print(i, end = '\\r')\n",
    "    op = nfp + 'ol.it%03d.hdf5'%i\n",
    "    with h5py.File(op, \"r\") as f1:\n",
    "        for o in f1.keys():\n",
    "            gc.collect()\n",
    "            x_min, y_min, x_max, y_max = np.copy(f1[o]['bbox'][()])\n",
    "            image = np.copy(f1[o]['image'][()])\n",
    "            det_err_image = np.copy(f1[o]['det_err_image'][()])\n",
    "            m = detect_sources(image, threshold = 0., npixels=1)\n",
    "            c = SourceCatalog(image, m)\n",
    "            xco = int(c.centroid_quad[0][1] + x_min)\n",
    "            yco = int(c.centroid_quad[0][0] + y_min)\n",
    "            xco = np.unravel_index(image.argmax(), image.shape)[0] + x_min\n",
    "            yco = np.unravel_index(image.argmax(), image.shape)[1] + y_min\n",
    "            lvlo = np.copy(f1[o]['level'][()])\n",
    "\n",
    "            recim[ x_min : x_max, y_min : y_max ] += image\n",
    "            \n",
    "            if (lvlo == 3) & (mcl[xco, yco] != True):\n",
    "                cirim3[ x_min : x_max, y_min : y_max ] += image\n",
    "                derim3[ x_min : x_max, y_min : y_max ] += det_err_image\n",
    "            if (lvlo == 4) & (mcl[xco, yco] != True):\n",
    "                cirim4[ x_min : x_max, y_min : y_max ] += image\n",
    "                derim4[ x_min : x_max, y_min : y_max ] += det_err_image\n",
    "            if (lvlo == 5) & (mcl[xco, yco] != True):\n",
    "                cirim5[ x_min : x_max, y_min : y_max ] += image\n",
    "                derim5[ x_min : x_max, y_min : y_max ] += det_err_image\n",
    "            if (lvlo == 6) & (mcl[xco, yco] != True):\n",
    "                cirim6[ x_min : x_max, y_min : y_max ] += image\n",
    "                derim6[ x_min : x_max, y_min : y_max ] += det_err_image\n",
    "            if lvlo >= 7:\n",
    "                cirim7[ x_min : x_max, y_min : y_max ] += image\n",
    "                derim7[ x_min : x_max, y_min : y_max ] += det_err_image\n",
    "cirim = cirim5+cirim6+cirim7\n",
    "derim = derim5+derim6+derim7\n",
    "print('done')"
   ]
  },
  {
   "cell_type": "code",
   "execution_count": 8,
   "id": "f7b2e170-46bd-4585-b27f-86a962797228",
   "metadata": {},
   "outputs": [],
   "source": [
    "cirim = cirim5+cirim6+cirim7\n",
    "derim = derim5+derim6+derim7"
   ]
  },
  {
   "cell_type": "code",
   "execution_count": 9,
   "id": "1c156f15-2f99-498e-a014-07f3b2f7fc57",
   "metadata": {},
   "outputs": [
    {
     "data": {
      "image/png": "[encoded data removed]",
      "text/plain": [
       "<Figure size 640x480 with 2 Axes>"
      ]
     },
     "metadata": {},
     "output_type": "display_data"
    }
   ],
   "source": [
    "plt.figure()\n",
    "plt.imshow(cirim, origin = 'lower', )\n",
    "#plt.imshow(gaussian_filter(cirim5, 20), origin = 'lower')\n",
    "plt.colorbar()\n",
    "plt.show()"
   ]
  },
  {
   "cell_type": "code",
   "execution_count": 10,
   "id": "7ddc6778-2dca-490c-920a-4c0cae02da2d",
   "metadata": {},
   "outputs": [
    {
     "name": "stderr",
     "output_type": "stream",
     "text": [
      "WARNING: Input data contains invalid values (NaNs or infs), which were automatically clipped. [astropy.stats.sigma_clipping]\n"
     ]
    }
   ],
   "source": [
    "hdu = fits.open(os.path.join(path_data, 'Euclid-NISP-H-ERO-Abell2390-LSB.DR3.rot.crop.warp.input.fits'))\n",
    "oim, header = hdu[0].data, hdu[0].header\n",
    "noise_pixels, val_max = dawis.sample_noise(oim, n_sigmas = 3, bins = 300)\n",
    "hduo = fits.PrimaryHDU()\n",
    "hdu_oim = fits.ImageHDU(oim, header = header, name = 'ORIGINAL')\n",
    "hdu_cirim = fits.ImageHDU(cirim + val_max, header = header, name = 'CIRRUS')\n",
    "hdu_derim = fits.ImageHDU(derim, header = header, name = 'RMS')\n",
    "hdu_clean = fits.ImageHDU(oim - cirim, header = header, name = 'CLEANED')\n",
    "hdu_recim = fits.ImageHDU(recim, header = header, name = 'RECIM')\n",
    "hdu_res = fits.ImageHDU(oim - recim, header = header, name = 'RES')\n",
    "\n",
    "hdul = fits.HDUList([hduo, hdu_oim, hdu_clean, hdu_cirim, hdu_derim, hdu_recim, hdu_res])\n",
    "hdul.writeto(nfp + 'synth.cirrus_lvl5.fits', overwrite = True)"
   ]
  },
  {
   "cell_type": "code",
   "execution_count": 3,
   "id": "7f4102bd-4745-4a9d-a99d-9ca752dcb0ab",
   "metadata": {},
   "outputs": [],
   "source": [
    "# rewrite input for 2nd pass\n",
    "for infile in glob.glob(os.path.join(path_wavelets, 'Euclid-NISP-?-ERO-Abell2390-LSB.DR3.rot.crop.warp.input.synth.cirrus_lvl5.fits')):\n",
    "    hdu = fits.open(infile)\n",
    "    res = hdu[-1].data\n",
    "    hduo = fits.PrimaryHDU(res, header = hdu[-1].header)\n",
    "    hduo.writeto(infile[:-9] +'res_pass1.fits', overwrite = True)"
   ]
  },
  {
   "cell_type": "code",
   "execution_count": 16,
   "id": "4e74b712-ba09-49ef-972b-f853e42fb846",
   "metadata": {},
   "outputs": [
    {
     "name": "stdout",
     "output_type": "stream",
     "text": [
      "done\n"
     ]
    },
    {
     "name": "stderr",
     "output_type": "stream",
     "text": [
      "WARNING: Input data contains invalid values (NaNs or infs), which were automatically clipped. [astropy.stats.sigma_clipping]\n"
     ]
    }
   ],
   "source": [
    "# rewrite input for 2nd pass\n",
    "for infile in glob.glob(os.path.join(path_wavelets, 'Euclid-NISP-Y-ERO-Abell2390-LSB.DR3.rot.crop.warp.input.synth.cirrus_lvl5.fits')):\n",
    "    hduo, hdu_oim, hdu_clean, hdu_cirim, hdu_derim, hdu_recim, hdu_res = fits.open(infile)\n",
    "    res = hdu_res.data\n",
    "    cirim = hdu_cirim.data\n",
    "    derim = hdu_derim.data\n",
    "    recim = hdu_recim.data\n",
    "    \n",
    "    nfp = os.path.join(path_wavelets, 'Euclid-NISP-Y-ERO-Abell2390-LSB.DR3.rot.crop.warp.input.synth.cirrus_res_pass1.')\n",
    "\n",
    "    cirim2 = np.zeros((xs, ys))\n",
    "    derim2 = np.zeros((xs, ys))\n",
    "\n",
    "    # dawis 2nd pass\n",
    "    for i in range(1, 38):\n",
    "        \n",
    "        print(i, end = '\\r')\n",
    "        op = nfp + 'ol.it%03d.hdf5'%i\n",
    "        with h5py.File(op, \"r\") as f1:\n",
    "            if len(f1.keys()) > 100:continue\n",
    "            for o in f1.keys():\n",
    "                gc.collect()\n",
    "                x_min, y_min, x_max, y_max = np.copy(f1[o]['bbox'][()])\n",
    "                image = np.copy(f1[o]['image'][()])\n",
    "                det_err_image = np.copy(f1[o]['det_err_image'][()])\n",
    "                #m = detect_sources(image, threshold = 0., npixels=1)\n",
    "                #c = SourceCatalog(image, m)\n",
    "                #xco = int(c.centroid_quad[0][1] + x_min)\n",
    "                #yco = int(c.centroid_quad[0][0] + y_min)\n",
    "                #xco = np.unravel_index(image.argmax(), image.shape)[0] + x_min\n",
    "                #yco = np.unravel_index(image.argmax(), image.shape)[1] + y_min\n",
    "                lvlo = np.copy(f1[o]['level'][()])\n",
    "    \n",
    "                if lvlo >= 7:\n",
    "                    cirim2[ x_min : x_max, y_min : y_max ] += image\n",
    "                    derim2[ x_min : x_max, y_min : y_max ] += det_err_image\n",
    "    print('done')\n",
    "\n",
    "    # H it 29 A 35\n",
    "    # J it 46 A 70\n",
    "    # Y it 37\n",
    "    # hand made last correction\n",
    "    with h5py.File(os.path.join(path_wavelets, 'Euclid-NISP-Y-ERO-Abell2390-LSB.DR3.rot.crop.warp.input.synth.cirrus_res_pass1.ol.it037.hdf5'), \"r\") as f1:\n",
    "        for o in f1.keys():\n",
    "            x_min, y_min, x_max, y_max = np.copy(f1[o]['bbox'][()])\n",
    "            image = np.copy(f1[o]['image'][()])\n",
    "            det_err_image = np.copy(f1[o]['det_err_image'][()])\n",
    "            A = 60\n",
    "            cirim2[ x_min : x_max, y_min : y_max ] += A * image\n",
    "            derim2[ x_min : x_max, y_min : y_max ] += A * det_err_image\n",
    "\n",
    "    # H it 48 A 20\n",
    "    # J it 08 A 40\n",
    "    # Y\n",
    "    # hand made last correction\n",
    "    #with h5py.File(os.path.join(path_wavelets, 'Euclid-NISP-J-ERO-Abell2390-LSB.DR3.rot.crop.warp.input.synth.cirrus_res_pass1.ol.it008.hdf5'), \"r\") as f1:\n",
    "    #    for o in f1.keys():\n",
    "    #        x_min, y_min, x_max, y_max = np.copy(f1[o]['bbox'][()])\n",
    "    #        image = np.copy(f1[o]['image'][()])\n",
    "    #        det_err_image = np.copy(f1[o]['det_err_image'][()])\n",
    "    #        A = 40\n",
    "    #        cirim2[ x_min : x_max, y_min : y_max ] += A * image\n",
    "    #        derim2[ x_min : x_max, y_min : y_max ] += A * det_err_image\n",
    "             \n",
    "    hdu = fits.open(os.path.join(path_data, 'Euclid-NISP-Y-ERO-Abell2390-LSB.DR3.rot.crop.warp.input.fits'))\n",
    "    oim, header = hdu[0].data, hdu[0].header\n",
    "    noise_pixels, val_max = dawis.sample_noise(oim, n_sigmas = 3, bins = 300)\n",
    "    \n",
    "    hduo = fits.PrimaryHDU()\n",
    "    hdu_cirim = fits.ImageHDU(cirim - val_max + cirim2, header = header, name = 'CIRRUS')\n",
    "    hdu_derim = fits.ImageHDU(derim + derim2, header = header, name = 'RMS')\n",
    "    hdu_clean = fits.ImageHDU(oim - cirim + val_max - cirim2, header = header, name = 'CLEANED')\n",
    "    hdu_recim = fits.ImageHDU(recim + cirim2, header = header, name = 'RECIM')\n",
    "    hdu_res = fits.ImageHDU(oim - recim - cirim2, header = header, name = 'RES')    \n",
    "    \n",
    "    hdul = fits.HDUList([hduo, hdu_oim, hdu_clean, hdu_cirim, hdu_derim, hdu_recim, hdu_res])\n",
    "    hdul.writeto(os.path.join(path_wavelets, 'Euclid-NISP-Y-ERO-Abell2390-LSB.DR3.rot.crop.warp.input.synth.cirrus_res_pass2.fits'), overwrite = True)\n",
    "    \n",
    "    #sigma_clip = SigmaClip(sigma = 3.0)\n",
    "    #bkg_estimator = MedianBackground()\n",
    "    #bkg = Background2D(res, (300, 300), filter_size=(3, 3), sigma_clip = sigma_clip, bkg_estimator=bkg_estimator)\n",
    "    #plt.figure()\n",
    "    #plt.imshow(res - cirim2, origin = 'lower', norm = ImageNormalize( res - cirim2, interval = ZScaleInterval(), stretch = LinearStretch() ) )#\n",
    "    #plt.show()"
   ]
  },
  {
   "cell_type": "code",
   "execution_count": 21,
   "id": "a2880fe1-bcd3-4344-8a90-c8d1eddf5380",
   "metadata": {},
   "outputs": [
    {
     "data": {
      "text/plain": [
       "'?'"
      ]
     },
     "execution_count": 21,
     "metadata": {},
     "output_type": "execute_result"
    }
   ],
   "source": [
    "os.path.join(path_wavelets, 'Euclid-NISP-?-ERO-Abell2390-LSB.DR3.rot.crop.warp.input.synth.cirrus_res_pass2.fits')[52]"
   ]
  },
  {
   "cell_type": "code",
   "execution_count": 22,
   "id": "5e3c30af-db29-4d7a-aa97-0f7e6e8dba36",
   "metadata": {},
   "outputs": [
    {
     "name": "stdout",
     "output_type": "stream",
     "text": [
      "/home/aellien/Euclid_ERO/wavelets/out11/Euclid-NISP-Y-ERO-Abell2390-LSB.DR3.rot.crop.warp.input.synth.cirrus_res_pass2.fits\n",
      "Warp 0.21 started on Mon Jul 22 11:42:06 2024\n",
      " Using 20 CPU threads.\n",
      " Input: /home/aellien/Euclid_ERO/wavelets/out11/Euclid-NISP-Y-ERO-Abell2390-LSB.DR3.rot.crop.warp.input.synth.cirrus_res_pass2.fits (hdu: 3)\n",
      " matrix:\n",
      "\t 4.0000    0.0000    0.0000\n",
      "\t 0.0000    4.0000    0.0000\n",
      "\t 0.0000    0.0000    1.0000\n"
     ]
    },
    {
     "name": "stderr",
     "output_type": "stream",
     "text": [
      "astwarp: gal_fits_key_write_filename: WARNING: the filename '/home/aellien/Euclid_ERO/wavelets/out11/Euclid-NISP-Y-ERO-Abell2390-LSB.DR3.rot.crop.warp.input.synth.cirrus_res_pass2.fits' (not including directories) is too long to fit into a FITS keyword value (max of 68 characters). It will therefore be truncated. If you are using Gnuastro's programs, this message is only about the metadata (keyword that keeps name of input), so it won't affect the output analysis and data. In this case, you can suppress this warning message with a '--quiet' option\n",
      "astwarp: gal_fits_key_write_filename: WARNING: the filename '/home/aellien/Euclid_ERO/wavelets/out11/Euclid-NISP-Y-ERO-Abell2390-LSB.DR3.rot.crop.warp.input.synth.cirrus_res_pass2.fits' (not including directories) is too long to fit into a FITS keyword value (max of 68 characters). It will therefore be truncated. If you are using Gnuastro's programs, this message is only about the metadata (keyword that keeps name of input), so it won't affect the output analysis and data. In this case, you can suppress this warning message with a '--quiet' option\n"
     ]
    },
    {
     "name": "stdout",
     "output_type": "stream",
     "text": [
      " Output: /home/aellien/Euclid_ERO/wavelets/out11/Euclid-NISP-Y-ERO-Abell2390-LSB.DR3.rot.crop.synth.cirrus.fits\n",
      "Warp finished in:  2.173627 seconds\n",
      "Warp 0.21 started on Mon Jul 22 11:42:08 2024\n",
      " Using 20 CPU threads.\n",
      " Input: /home/aellien/Euclid_ERO/wavelets/out11/Euclid-NISP-Y-ERO-Abell2390-LSB.DR3.rot.crop.synth.cirrus.fits (hdu: 1)\n",
      " matrix:\n",
      "\t 0.4226   -0.9063    0.0000\n",
      "\t 0.9063    0.4226    0.0000\n",
      "\t 0.0000    0.0000    1.0000\n",
      " Output: /home/aellien/Euclid_ERO/wavelets/out11/Euclid-NISP-Y-ERO-Abell2390-LSB.DR3.crop.synth.cirrus.fits\n",
      "Warp finished in:  7.303312 seconds\n",
      "/home/aellien/Euclid_ERO/wavelets/out11/Euclid-NISP-J-ERO-Abell2390-LSB.DR3.rot.crop.warp.input.synth.cirrus_res_pass2.fits\n"
     ]
    },
    {
     "name": "stderr",
     "output_type": "stream",
     "text": [
      "astwarp: gal_fits_key_write_filename: WARNING: the filename '/home/aellien/Euclid_ERO/wavelets/out11/Euclid-NISP-J-ERO-Abell2390-LSB.DR3.rot.crop.warp.input.synth.cirrus_res_pass2.fits' (not including directories) is too long to fit into a FITS keyword value (max of 68 characters). It will therefore be truncated. If you are using Gnuastro's programs, this message is only about the metadata (keyword that keeps name of input), so it won't affect the output analysis and data. In this case, you can suppress this warning message with a '--quiet' option\n"
     ]
    },
    {
     "name": "stdout",
     "output_type": "stream",
     "text": [
      "Warp 0.21 started on Mon Jul 22 11:42:15 2024\n",
      " Using 20 CPU threads.\n",
      " Input: /home/aellien/Euclid_ERO/wavelets/out11/Euclid-NISP-J-ERO-Abell2390-LSB.DR3.rot.crop.warp.input.synth.cirrus_res_pass2.fits (hdu: 3)\n",
      " matrix:\n",
      "\t 4.0000    0.0000    0.0000\n",
      "\t 0.0000    4.0000    0.0000\n",
      "\t 0.0000    0.0000    1.0000\n"
     ]
    },
    {
     "name": "stderr",
     "output_type": "stream",
     "text": [
      "astwarp: gal_fits_key_write_filename: WARNING: the filename '/home/aellien/Euclid_ERO/wavelets/out11/Euclid-NISP-J-ERO-Abell2390-LSB.DR3.rot.crop.warp.input.synth.cirrus_res_pass2.fits' (not including directories) is too long to fit into a FITS keyword value (max of 68 characters). It will therefore be truncated. If you are using Gnuastro's programs, this message is only about the metadata (keyword that keeps name of input), so it won't affect the output analysis and data. In this case, you can suppress this warning message with a '--quiet' option\n"
     ]
    },
    {
     "name": "stdout",
     "output_type": "stream",
     "text": [
      " Output: /home/aellien/Euclid_ERO/wavelets/out11/Euclid-NISP-J-ERO-Abell2390-LSB.DR3.rot.crop.synth.cirrus.fits\n",
      "Warp finished in:  2.202791 seconds\n",
      "Warp 0.21 started on Mon Jul 22 11:42:17 2024\n",
      " Using 20 CPU threads.\n",
      " Input: /home/aellien/Euclid_ERO/wavelets/out11/Euclid-NISP-J-ERO-Abell2390-LSB.DR3.rot.crop.synth.cirrus.fits (hdu: 1)\n",
      " matrix:\n",
      "\t 0.4226   -0.9063    0.0000\n",
      "\t 0.9063    0.4226    0.0000\n",
      "\t 0.0000    0.0000    1.0000\n",
      " Output: /home/aellien/Euclid_ERO/wavelets/out11/Euclid-NISP-J-ERO-Abell2390-LSB.DR3.crop.synth.cirrus.fits\n",
      "Warp finished in:  6.960756 seconds\n",
      "/home/aellien/Euclid_ERO/wavelets/out11/Euclid-NISP-H-ERO-Abell2390-LSB.DR3.rot.crop.warp.input.synth.cirrus_res_pass2.fits\n",
      "Warp 0.21 started on Mon Jul 22 11:42:24 2024\n",
      " Using 20 CPU threads.\n",
      " Input: /home/aellien/Euclid_ERO/wavelets/out11/Euclid-NISP-H-ERO-Abell2390-LSB.DR3.rot.crop.warp.input.synth.cirrus_res_pass2.fits (hdu: 3)\n",
      " matrix:\n",
      "\t 4.0000    0.0000    0.0000\n",
      "\t 0.0000    4.0000    0.0000\n",
      "\t 0.0000    0.0000    1.0000\n"
     ]
    },
    {
     "name": "stderr",
     "output_type": "stream",
     "text": [
      "astwarp: gal_fits_key_write_filename: WARNING: the filename '/home/aellien/Euclid_ERO/wavelets/out11/Euclid-NISP-H-ERO-Abell2390-LSB.DR3.rot.crop.warp.input.synth.cirrus_res_pass2.fits' (not including directories) is too long to fit into a FITS keyword value (max of 68 characters). It will therefore be truncated. If you are using Gnuastro's programs, this message is only about the metadata (keyword that keeps name of input), so it won't affect the output analysis and data. In this case, you can suppress this warning message with a '--quiet' option\n",
      "astwarp: gal_fits_key_write_filename: WARNING: the filename '/home/aellien/Euclid_ERO/wavelets/out11/Euclid-NISP-H-ERO-Abell2390-LSB.DR3.rot.crop.warp.input.synth.cirrus_res_pass2.fits' (not including directories) is too long to fit into a FITS keyword value (max of 68 characters). It will therefore be truncated. If you are using Gnuastro's programs, this message is only about the metadata (keyword that keeps name of input), so it won't affect the output analysis and data. In this case, you can suppress this warning message with a '--quiet' option\n"
     ]
    },
    {
     "name": "stdout",
     "output_type": "stream",
     "text": [
      " Output: /home/aellien/Euclid_ERO/wavelets/out11/Euclid-NISP-H-ERO-Abell2390-LSB.DR3.rot.crop.synth.cirrus.fits\n",
      "Warp finished in:  2.211471 seconds\n",
      "Warp 0.21 started on Mon Jul 22 11:42:26 2024\n",
      " Using 20 CPU threads.\n",
      " Input: /home/aellien/Euclid_ERO/wavelets/out11/Euclid-NISP-H-ERO-Abell2390-LSB.DR3.rot.crop.synth.cirrus.fits (hdu: 1)\n",
      " matrix:\n",
      "\t 0.4226   -0.9063    0.0000\n",
      "\t 0.9063    0.4226    0.0000\n",
      "\t 0.0000    0.0000    1.0000\n",
      " Output: /home/aellien/Euclid_ERO/wavelets/out11/Euclid-NISP-H-ERO-Abell2390-LSB.DR3.crop.synth.cirrus.fits\n",
      "Warp finished in:  7.073537 seconds\n",
      "done\n"
     ]
    }
   ],
   "source": [
    "# Apply mask & inpaint & preprocessing\n",
    "for infile in glob.glob(os.path.join(path_wavelets, 'Euclid-NISP-?-ERO-Abell2390-LSB.DR3.rot.crop.warp.input.synth.cirrus_res_pass2.fits')):\n",
    "    \n",
    "    print(infile)\n",
    "    filt = infile[52]\n",
    "    hdu = fits.open(infile)\n",
    "    cirim, header = hdu[3].data, hdu[3].header\n",
    "\n",
    "    # original pixel size\n",
    "    warp = os.path.join(path_wavelets, 'Euclid-NISP-%s-ERO-Abell2390-LSB.DR3.rot.crop.synth.cirrus.fits'%filt)\n",
    "    subprocess.run(['astwarp', '--scale=4.', '-h3', '--output=%s'%warp, infile])\n",
    "\n",
    "    # rot\n",
    "    rot = os.path.join(path_wavelets, 'Euclid-NISP-%s-ERO-Abell2390-LSB.DR3.crop.synth.cirrus.fits'%filt)\n",
    "    subprocess.run(['astwarp', '--rotate=-295', '-h1', warp, '--output=%s'%rot])\n",
    "\n",
    "print('done')"
   ]
  },
  {
   "cell_type": "code",
   "execution_count": 25,
   "id": "7552c0bb-1f92-4b18-af1a-a5984216af3a",
   "metadata": {},
   "outputs": [
    {
     "name": "stdout",
     "output_type": "stream",
     "text": [
      "/home/aellien/Euclid_ERO/data/Euclid-NISP-Stack-ERO-Abell2390.DR3/Euclid-NISP-H-ERO-Abell2390-LSB.DR3.fits\n",
      "Warp 0.21 started on Mon Jul 22 11:59:09 2024\n",
      " Using 20 CPU threads.\n",
      " Input: /home/aellien/Euclid_ERO/data/Euclid-NISP-Stack-ERO-Abell2390.DR3/Euclid-NISP-H-ERO-Abell2390-LSB.DR3.fits (hdu: 0)\n",
      " matrix:\n",
      "\t 0.4226    0.9063    0.0000\n",
      "\t-0.9063    0.4226    0.0000\n",
      "\t 0.0000    0.0000    1.0000\n",
      " Output: /home/aellien/Euclid_ERO/data/Euclid-NISP-Stack-ERO-Abell2390.DR3/Euclid-NISP-H-ERO-Abell2390-LSB.DR3.rot.fits\n",
      "Warp finished in:  17.877574 seconds\n",
      "Crop 0.21 started on Mon Jul 22 11:59:27 2024\n",
      "  - Read metadata of 1 dataset.                        0.000904 seconds\n",
      "  ---- ...l2390-LSB.DR3.rot.crop.fits created: 1 input.\n",
      "Crop finished in:  1.170952 seconds\n",
      "Warp 0.21 started on Mon Jul 22 11:59:28 2024\n",
      " Using 20 CPU threads.\n",
      " Input: /home/aellien/Euclid_ERO/data/Euclid-NISP-Stack-ERO-Abell2390.DR3/Euclid-NISP-H-ERO-Abell2390-LSB.DR3.rot.crop.fits (hdu: 1)\n",
      " matrix:\n",
      "\t 0.4226   -0.9063    0.0000\n",
      "\t 0.9063    0.4226    0.0000\n",
      "\t 0.0000    0.0000    1.0000\n",
      " Output: /home/aellien/Euclid_ERO/data/Euclid-NISP-Stack-ERO-Abell2390.DR3/Euclid-NISP-H-ERO-Abell2390-LSB.DR3.revrot.fits\n",
      "Warp finished in:  7.079583 seconds\n",
      "/home/aellien/Euclid_ERO/data/Euclid-NISP-Stack-ERO-Abell2390.DR3/Euclid-NISP-J-ERO-Abell2390-LSB.DR3.fits\n",
      "Warp 0.21 started on Mon Jul 22 11:59:35 2024\n",
      " Using 20 CPU threads.\n",
      " Input: /home/aellien/Euclid_ERO/data/Euclid-NISP-Stack-ERO-Abell2390.DR3/Euclid-NISP-J-ERO-Abell2390-LSB.DR3.fits (hdu: 0)\n",
      " matrix:\n",
      "\t 0.4226    0.9063    0.0000\n",
      "\t-0.9063    0.4226    0.0000\n",
      "\t 0.0000    0.0000    1.0000\n",
      " Output: /home/aellien/Euclid_ERO/data/Euclid-NISP-Stack-ERO-Abell2390.DR3/Euclid-NISP-J-ERO-Abell2390-LSB.DR3.rot.fits\n",
      "Warp finished in:  19.041877 seconds\n",
      "Crop 0.21 started on Mon Jul 22 11:59:54 2024\n",
      "  - Read metadata of 1 dataset.                        0.000961 seconds\n",
      "  ---- ...l2390-LSB.DR3.rot.crop.fits created: 1 input.\n",
      "Crop finished in:  1.163183 seconds\n",
      "Warp 0.21 started on Mon Jul 22 11:59:55 2024\n",
      " Using 20 CPU threads.\n",
      " Input: /home/aellien/Euclid_ERO/data/Euclid-NISP-Stack-ERO-Abell2390.DR3/Euclid-NISP-J-ERO-Abell2390-LSB.DR3.rot.crop.fits (hdu: 1)\n",
      " matrix:\n",
      "\t 0.4226   -0.9063    0.0000\n",
      "\t 0.9063    0.4226    0.0000\n",
      "\t 0.0000    0.0000    1.0000\n",
      " Output: /home/aellien/Euclid_ERO/data/Euclid-NISP-Stack-ERO-Abell2390.DR3/Euclid-NISP-J-ERO-Abell2390-LSB.DR3.revrot.fits\n",
      "Warp finished in:  7.991825 seconds\n",
      "/home/aellien/Euclid_ERO/data/Euclid-NISP-Stack-ERO-Abell2390.DR3/Euclid-NISP-Y-ERO-Abell2390-LSB.DR3.fits\n",
      "Warp 0.21 started on Mon Jul 22 12:00:03 2024\n",
      " Using 20 CPU threads.\n",
      " Input: /home/aellien/Euclid_ERO/data/Euclid-NISP-Stack-ERO-Abell2390.DR3/Euclid-NISP-Y-ERO-Abell2390-LSB.DR3.fits (hdu: 0)\n",
      " matrix:\n",
      "\t 0.4226    0.9063    0.0000\n",
      "\t-0.9063    0.4226    0.0000\n",
      "\t 0.0000    0.0000    1.0000\n",
      " Output: /home/aellien/Euclid_ERO/data/Euclid-NISP-Stack-ERO-Abell2390.DR3/Euclid-NISP-Y-ERO-Abell2390-LSB.DR3.rot.fits\n",
      "Warp finished in:  17.901720 seconds\n",
      "Crop 0.21 started on Mon Jul 22 12:00:21 2024\n",
      "  - Read metadata of 1 dataset.                        0.000911 seconds\n",
      "  ---- ...l2390-LSB.DR3.rot.crop.fits created: 1 input.\n",
      "Crop finished in:  1.168654 seconds\n",
      "Warp 0.21 started on Mon Jul 22 12:00:22 2024\n",
      " Using 20 CPU threads.\n",
      " Input: /home/aellien/Euclid_ERO/data/Euclid-NISP-Stack-ERO-Abell2390.DR3/Euclid-NISP-Y-ERO-Abell2390-LSB.DR3.rot.crop.fits (hdu: 1)\n",
      " matrix:\n",
      "\t 0.4226   -0.9063    0.0000\n",
      "\t 0.9063    0.4226    0.0000\n",
      "\t 0.0000    0.0000    1.0000\n",
      " Output: /home/aellien/Euclid_ERO/data/Euclid-NISP-Stack-ERO-Abell2390.DR3/Euclid-NISP-Y-ERO-Abell2390-LSB.DR3.revrot.fits\n",
      "Warp finished in:  7.071459 seconds\n",
      "done\n"
     ]
    }
   ],
   "source": [
    "# Make original image with same size as cirim\n",
    "for infile in glob.glob(os.path.join(path_data, 'Euclid-NISP-?-ERO-Abell2390-LSB.DR3.fits')):\n",
    "    \n",
    "    print(infile)\n",
    "    filt = infile[-28]\n",
    "    hdu = fits.open(os.path.join(path_data, infile))\n",
    "    oim, header = hdu[0].data, hdu[0].header\n",
    "\n",
    "    # rot\n",
    "    rot = os.path.join(path_data, 'Euclid-NISP-%s-ERO-Abell2390-LSB.DR3.rot.fits'%filt)\n",
    "    subprocess.run(['astwarp', '--rotate=295', '-h0', infile, '--output=%s'%rot])\n",
    "\n",
    "    # crop\n",
    "    crop = os.path.join(path_data, 'Euclid-NISP-%s-ERO-Abell2390-LSB.DR3.rot.crop.fits'%filt)\n",
    "    subprocess.run(['astcrop', '--mode=wcs', '--center=328.40009,17.699051', '--width=0.75,0.75', '-h1', '--output=%s'%crop, rot])\n",
    "\n",
    "    # reverse rot\n",
    "    revrot = os.path.join(path_data, 'Euclid-NISP-%s-ERO-Abell2390-LSB.DR3.revrot.fits'%filt)\n",
    "    subprocess.run(['astwarp', '--rotate=-295', '-h1', crop, '--output=%s'%revrot])\n",
    "\n",
    "print('done')"
   ]
  },
  {
   "cell_type": "code",
   "execution_count": 30,
   "id": "28c88731-94ca-4b0e-a20a-14ded31a1f5f",
   "metadata": {},
   "outputs": [],
   "source": [
    "# Final product for public\n",
    "for infile in glob.glob(os.path.join(path_data, 'Euclid-NISP-?-ERO-Abell2390-LSB.DR3.revrot.fits')):\n",
    "    filt = infile[-35]\n",
    "    hdu = fits.open(infile)\n",
    "    oim, header = hdu[1].data[:11962, :11962], hdu[1].header\n",
    "    #noise_pixels, val_max = dawis.sample_noise(oim, n_sigmas = 3, bins = 300)\n",
    "\n",
    "    cirim = fits.getdata(os.path.join(path_wavelets, 'Euclid-NISP-%s-ERO-Abell2390-LSB.DR3.crop.synth.cirrus.fits'%filt))[:11962, :11962]\n",
    "    \n",
    "    hduo = fits.PrimaryHDU()\n",
    "    hdu_oim = fits.ImageHDU(oim, header = header, name = 'ORIGINAL')\n",
    "    hdu_clean = fits.ImageHDU(oim - cirim, header = header, name = 'CLEANED')\n",
    "    hdu_cirim = fits.ImageHDU(cirim, header = header, name = 'CIRRUS')\n",
    "    #hdu_derim = fits.ImageHDU(derim, header = header, name = 'RMS')\n",
    "    \n",
    "    hdul = fits.HDUList([hduo, hdu_oim, hdu_clean, hdu_cirim ])\n",
    "    hdul.writeto(os.path.join(path_data, 'Euclid-NISP-%s-ERO-Abell2390-LSB.DR3.crop.synth.cirrus_lvl5.fits'%filt), overwrite = True)"
   ]
  },
  {
   "cell_type": "code",
   "execution_count": 42,
   "id": "161d4267-4551-48d6-8d51-e611bf31ba33",
   "metadata": {},
   "outputs": [
    {
     "name": "stdout",
     "output_type": "stream",
     "text": [
      "Crop 0.21 started on Mon Jul 22 14:17:09 2024\n",
      "  - Read metadata of 1 dataset.                        13.537378 seconds\n",
      "  ---- ...synth.cirrus_lvl5.crop.fits created: 1 input.\n",
      "Crop finished in:  20.500156 seconds\n",
      "Crop 0.21 started on Mon Jul 22 14:17:30 2024\n",
      "  - Read metadata of 1 dataset.                        13.555494 seconds\n",
      "  ---- ...synth.cirrus_lvl5.crop.fits created: 1 input.\n",
      "Crop finished in:  20.521446 seconds\n",
      "Crop 0.21 started on Mon Jul 22 14:17:50 2024\n",
      "  - Read metadata of 1 dataset.                        13.606618 seconds\n",
      "  ---- ...synth.cirrus_lvl5.crop.fits created: 1 input.\n",
      "Crop finished in:  20.614873 seconds\n"
     ]
    }
   ],
   "source": [
    "# Input for DAWIS\n",
    "for infile in glob.glob(os.path.join(path_data, 'Euclid-NISP-?-ERO-Abell2390-LSB.DR3.crop.synth.cirrus_lvl5.fits.gz')):\n",
    "    filt = infile[-54]\n",
    "    \n",
    "    # crop\n",
    "    crop = os.path.join(path_data, 'Euclid-NISP-%s-ERO-Abell2390-LSB.DR3.crop.synth.cirrus_lvl5.crop.fits'%filt)\n",
    "    subprocess.run(['astcrop', '--mode=wcs', '--center=328.40009,17.699051', '--width=0.3,0.3', '-h2', '--output=%s'%crop, infile])\n",
    "\n",
    "    # dawis input rdy\n",
    "    input = os.path.join(path_data, 'Euclid-NISP-%s-ERO-Abell2390-LSB.DR3.crop.synth.cirrus_lvl5.input.fits'%filt)\n",
    "    subprocess.run(['astfits', crop, '--copy=1', '--output=%s'%input, '--primaryimghdu'])"
   ]
  },
  {
   "cell_type": "code",
   "execution_count": 41,
   "id": "40eca7b6-9668-4c6c-bd88-bfc3f0c8bf83",
   "metadata": {},
   "outputs": [
    {
     "data": {
      "text/plain": [
       "'J'"
      ]
     },
     "execution_count": 41,
     "metadata": {},
     "output_type": "execute_result"
    }
   ],
   "source": [
    "infile[-54]"
   ]
  },
  {
   "cell_type": "code",
   "execution_count": null,
   "id": "c7661aae-926e-4f06-851a-753dd0d0968e",
   "metadata": {},
   "outputs": [],
   "source": []
  }
 ],
 "metadata": {
  "kernelspec": {
   "display_name": "Python 3 (ipykernel)",
   "language": "python",
   "name": "python3"
  },
  "language_info": {
   "codemirror_mode": {
    "name": "ipython",
    "version": 3
   },
   "file_extension": ".py",
   "mimetype": "text/x-python",
   "name": "python",
   "nbconvert_exporter": "python",
   "pygments_lexer": "ipython3",
   "version": "3.11.6"
  }
 },
 "nbformat": 4,
 "nbformat_minor": 5
}
