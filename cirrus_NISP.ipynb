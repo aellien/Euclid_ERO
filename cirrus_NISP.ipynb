{
 "cells": [
  {
   "cell_type": "code",
   "execution_count": 65,
   "id": "e204c973-0f97-4933-b299-59a871f6c44d",
   "metadata": {},
   "outputs": [],
   "source": [
    "import sys\n",
    "import dawis as d\n",
    "import glob as glob\n",
    "import os\n",
    "import numpy as np\n",
    "import pyregion as pyr\n",
    "import random\n",
    "import gc\n",
    "import h5py\n",
    "import dawis\n",
    "import matplotlib as mpl\n",
    "import pandas as pd\n",
    "import matplotlib.pyplot as plt\n",
    "from mpl_toolkits.axes_grid1 import make_axes_locatable\n",
    "from astropy.io import fits\n",
    "from astropy.visualization import *\n",
    "from scipy.stats import kurtosis\n",
    "from power_ratio import *\n",
    "from datetime import datetime\n",
    "from photutils.segmentation import SourceCatalog, detect_sources\n",
    "import make_results_ERO_noray\n",
    "import tracemalloc\n",
    "import matplotlib\n",
    "import cmasher\n",
    "from astropy.wcs import WCS\n",
    "from scipy.ndimage import gaussian_filter\n",
    "from matplotlib.patches import Rectangle\n",
    "from astropy.stats import sigma_clip\n",
    "import subprocess\n"
   ]
  },
  {
   "cell_type": "code",
   "execution_count": 30,
   "id": "b16ffa5b-e18a-43d7-87b5-9bb3fa79f08a",
   "metadata": {},
   "outputs": [],
   "source": [
    "# Paths, lists & variables\n",
    "path_data = '/home/aellien/Euclid_ERO/data/Euclid-NISP-Stack-ERO-Abell2390.DR3'\n",
    "path_scripts = '/home/aellien/Euclid_ERO/Euclid_ERO_scripts'\n",
    "path_wavelets = '/home/aellien/Euclid_ERO/wavelets/out8/'\n",
    "path_plots = '/home/aellien/Euclid_ERO/plots'\n",
    "path_analysis = '/home/aellien/Euclid_ERO/analysis/'"
   ]
  },
  {
   "cell_type": "code",
   "execution_count": 26,
   "id": "6dd8fcc2-8736-4abe-977c-d955fd5417e2",
   "metadata": {},
   "outputs": [],
   "source": [
    "# Make masks of all objects\n",
    "hdu1 = fits.open(os.path.join(path_analysis, 'Abell_2390_NISP_mask_all_but_bcg_full_img_H.fits'))\n",
    "m_all_but_bcg = hdu1[0].data\n",
    "hdu2 = fits.open(os.path.join(path_analysis, 'Abell_2390_NISP_mask_all_but_clmembers_full_img_H.fits'))\n",
    "m_all_but_clmembers = hdu2[0].data\n",
    "\n",
    "m_all = np.copy(m_all_but_bcg.astype(bool))\n",
    "m_all[np.where((m_all_but_clmembers.astype(bool) == False) & (m_all == True)) ] = False\n",
    "m_all = m_all.astype(int)\n",
    "\n",
    "hduo = fits.PrimaryHDU(m_all, header = hdu1[0].header) \n",
    "hduo.writeto(os.path.join(path_analysis, 'Abell_2390_NISP_mask_all_full_img_H.fits'))"
   ]
  },
  {
   "cell_type": "code",
   "execution_count": 89,
   "id": "ba8de608-cf76-40e5-b98e-e18fc4df93f5",
   "metadata": {},
   "outputs": [
    {
     "name": "stdout",
     "output_type": "stream",
     "text": [
      "/home/aellien/Euclid_ERO/data/Euclid-NISP-Stack-ERO-Abell2390.DR3/Euclid-NISP-H-ERO-Abell2390-LSB.DR3.fits\n"
     ]
    },
    {
     "name": "stderr",
     "output_type": "stream",
     "text": [
      "WARNING: Input data contains invalid values (NaNs or infs), which were automatically clipped. [astropy.stats.sigma_clipping]\n"
     ]
    },
    {
     "name": "stdout",
     "output_type": "stream",
     "text": [
      "Warp 0.21 started on Sun Jul 14 12:48:21 2024\n",
      " Using 20 CPU threads.\n",
      " Input: /home/aellien/Euclid_ERO/data/Euclid-NISP-Stack-ERO-Abell2390.DR3/Euclid-NISP-H-ERO-Abell2390-LSB.DR3.masked.fits (hdu: 0)\n",
      " matrix:\n",
      "\t 0.4226    0.9063    0.0000\n",
      "\t-0.9063    0.4226    0.0000\n",
      "\t 0.0000    0.0000    1.0000\n",
      " Output: /home/aellien/Euclid_ERO/data/Euclid-NISP-Stack-ERO-Abell2390.DR3/Euclid-NISP-H-ERO-Abell2390-LSB.DR3.masked.rot.fits\n",
      "Warp finished in:  18.026429 seconds\n",
      "Crop 0.21 started on Sun Jul 14 12:48:39 2024\n",
      "  - Read metadata of 1 dataset.                        0.001318 seconds\n",
      "  ---- ...SB.DR3.masked.rot.crop.fits created: 1 input.\n",
      "Crop finished in:  1.197804 seconds\n",
      "Warp 0.21 started on Sun Jul 14 12:48:40 2024\n",
      " Using 20 CPU threads.\n",
      " Input: /home/aellien/Euclid_ERO/data/Euclid-NISP-Stack-ERO-Abell2390.DR3/Euclid-NISP-H-ERO-Abell2390-LSB.DR3.masked.rot.crop.fits (hdu: 1)\n",
      " matrix:\n",
      "\t 0.2500    0.0000    0.0000\n",
      "\t 0.0000    0.2500    0.0000\n",
      "\t 0.0000    0.0000    1.0000\n",
      " Output: /home/aellien/Euclid_ERO/data/Euclid-NISP-Stack-ERO-Abell2390.DR3/Euclid-NISP-H-ERO-Abell2390-LSB.DR3.masked.rot.crop.warp.fits\n",
      "Warp finished in:  1.998740 seconds\n",
      "/home/aellien/Euclid_ERO/data/Euclid-NISP-Stack-ERO-Abell2390.DR3/Euclid-NISP-J-ERO-Abell2390-LSB.DR3.fits\n"
     ]
    },
    {
     "name": "stderr",
     "output_type": "stream",
     "text": [
      "WARNING: Input data contains invalid values (NaNs or infs), which were automatically clipped. [astropy.stats.sigma_clipping]\n"
     ]
    },
    {
     "name": "stdout",
     "output_type": "stream",
     "text": [
      "Warp 0.21 started on Sun Jul 14 12:49:01 2024\n",
      " Using 20 CPU threads.\n",
      " Input: /home/aellien/Euclid_ERO/data/Euclid-NISP-Stack-ERO-Abell2390.DR3/Euclid-NISP-J-ERO-Abell2390-LSB.DR3.masked.fits (hdu: 0)\n",
      " matrix:\n",
      "\t 0.4226    0.9063    0.0000\n",
      "\t-0.9063    0.4226    0.0000\n",
      "\t 0.0000    0.0000    1.0000\n",
      " Output: /home/aellien/Euclid_ERO/data/Euclid-NISP-Stack-ERO-Abell2390.DR3/Euclid-NISP-J-ERO-Abell2390-LSB.DR3.masked.rot.fits\n",
      "Warp finished in:  18.481371 seconds\n",
      "Crop 0.21 started on Sun Jul 14 12:49:20 2024\n",
      "  - Read metadata of 1 dataset.                        0.000885 seconds\n",
      "  ---- ...SB.DR3.masked.rot.crop.fits created: 1 input.\n",
      "Crop finished in:  1.109867 seconds\n",
      "Warp 0.21 started on Sun Jul 14 12:49:21 2024\n",
      " Using 20 CPU threads.\n",
      " Input: /home/aellien/Euclid_ERO/data/Euclid-NISP-Stack-ERO-Abell2390.DR3/Euclid-NISP-J-ERO-Abell2390-LSB.DR3.masked.rot.crop.fits (hdu: 1)\n",
      " matrix:\n",
      "\t 0.2500    0.0000    0.0000\n",
      "\t 0.0000    0.2500    0.0000\n",
      "\t 0.0000    0.0000    1.0000\n",
      " Output: /home/aellien/Euclid_ERO/data/Euclid-NISP-Stack-ERO-Abell2390.DR3/Euclid-NISP-J-ERO-Abell2390-LSB.DR3.masked.rot.crop.warp.fits\n",
      "Warp finished in:  2.122005 seconds\n",
      "/home/aellien/Euclid_ERO/data/Euclid-NISP-Stack-ERO-Abell2390.DR3/Euclid-NISP-Y-ERO-Abell2390-LSB.DR3.fits\n"
     ]
    },
    {
     "name": "stderr",
     "output_type": "stream",
     "text": [
      "WARNING: Input data contains invalid values (NaNs or infs), which were automatically clipped. [astropy.stats.sigma_clipping]\n"
     ]
    },
    {
     "name": "stdout",
     "output_type": "stream",
     "text": [
      "Warp 0.21 started on Sun Jul 14 12:49:42 2024\n",
      " Using 20 CPU threads.\n",
      " Input: /home/aellien/Euclid_ERO/data/Euclid-NISP-Stack-ERO-Abell2390.DR3/Euclid-NISP-Y-ERO-Abell2390-LSB.DR3.masked.fits (hdu: 0)\n",
      " matrix:\n",
      "\t 0.4226    0.9063    0.0000\n",
      "\t-0.9063    0.4226    0.0000\n",
      "\t 0.0000    0.0000    1.0000\n",
      " Output: /home/aellien/Euclid_ERO/data/Euclid-NISP-Stack-ERO-Abell2390.DR3/Euclid-NISP-Y-ERO-Abell2390-LSB.DR3.masked.rot.fits\n",
      "Warp finished in:  18.727742 seconds\n",
      "Crop 0.21 started on Sun Jul 14 12:50:01 2024\n",
      "  - Read metadata of 1 dataset.                        0.000815 seconds\n",
      "  ---- ...SB.DR3.masked.rot.crop.fits created: 1 input.\n",
      "Crop finished in:  1.136072 seconds\n",
      "Warp 0.21 started on Sun Jul 14 12:50:02 2024\n",
      " Using 20 CPU threads.\n",
      " Input: /home/aellien/Euclid_ERO/data/Euclid-NISP-Stack-ERO-Abell2390.DR3/Euclid-NISP-Y-ERO-Abell2390-LSB.DR3.masked.rot.crop.fits (hdu: 1)\n",
      " matrix:\n",
      "\t 0.2500    0.0000    0.0000\n",
      "\t 0.0000    0.2500    0.0000\n",
      "\t 0.0000    0.0000    1.0000\n",
      " Output: /home/aellien/Euclid_ERO/data/Euclid-NISP-Stack-ERO-Abell2390.DR3/Euclid-NISP-Y-ERO-Abell2390-LSB.DR3.masked.rot.crop.warp.fits\n",
      "Warp finished in:  1.898204 seconds\n",
      "done\n"
     ]
    }
   ],
   "source": [
    "# Apply mask & inpaint & preprocessing\n",
    "for infile in glob.glob(os.path.join(path_data, 'Euclid-NISP-?-ERO-Abell2390-LSB.DR3.fits')):\n",
    "    \n",
    "    print(infile)\n",
    "    filt = infile[-28]\n",
    "    hdu = fits.open(os.path.join(path_data, infile))\n",
    "    oim, header = hdu[0].data, hdu[0].header\n",
    "    mask = fits.getdata(os.path.join(path_analysis, 'Abell_2390_NISP_mask_all_full_img_H.fits'))\n",
    "\n",
    "    # mask\n",
    "    moim = np.copy(oim)\n",
    "    moim[~mask.astype(bool)] = np.nan\n",
    "\n",
    "    # inpaint\n",
    "    noise_pixels, val_max = dawis.sample_noise(moim, n_sigmas = 3, bins = 300)\n",
    "    mean, std = np.mean(noise_pixels), np.std(noise_pixels)\n",
    "    mask = np.zeros(moim.shape)\n",
    "    mask[ moim < -abs(5 * std) ] = 1.\n",
    "    mask[np.where(np.isnan(moim) == True)] = 1.\n",
    "    draws = np.random.normal(mean, std, moim.shape)\n",
    "    mask *= draws\n",
    "    moim[ moim < -abs(5 * std) ] = 0.\n",
    "    moim[ np.where(np.isnan(moim) == True)] = 0.\n",
    "    moim += mask\n",
    "    hduo = fits.PrimaryHDU(moim, header = header)\n",
    "    hduo.writeto(os.path.join(path_data, 'Euclid-NISP-%s-ERO-Abell2390-LSB.DR3.masked.fits'%filt), overwrite = True)\n",
    "\n",
    "    # rot\n",
    "    masked = os.path.join(path_data, 'Euclid-NISP-%s-ERO-Abell2390-LSB.DR3.masked.fits'%filt)\n",
    "    rot = os.path.join(path_data, 'Euclid-NISP-%s-ERO-Abell2390-LSB.DR3.masked.rot.fits'%filt)\n",
    "    subprocess.run(['astwarp', '--rotate=295', '-h0', masked, '--output=%s'%rot])\n",
    "\n",
    "    # crop\n",
    "    crop = os.path.join(path_data, 'Euclid-NISP-%s-ERO-Abell2390-LSB.DR3.masked.rot.crop.fits'%filt)\n",
    "    subprocess.run(['astcrop', '--mode=wcs', '--center=328.40009,17.699051', '--width=0.75,0.75', '-h1', '--output=%s'%crop, rot])\n",
    "\n",
    "    # warp\n",
    "    warp = os.path.join(path_data, 'Euclid-NISP-%s-ERO-Abell2390-LSB.DR3.masked.rot.crop.warp.fits'%filt)\n",
    "    subprocess.run(['astwarp', '--scale=1./4.', '-h1', '--output=%s'%warp, crop])\n",
    "\n",
    "    # dawis input rdy\n",
    "    input = os.path.join(path_data, 'Euclid-NISP-%s-ERO-Abell2390-LSB.DR3.masked.rot.crop.warp.input.fits'%filt)\n",
    "    subprocess.run(['astfits', warp, '--copy=1', '--output=%s'%input, '--primaryimghdu'])\n",
    "\n",
    "print('done')"
   ]
  },
  {
   "cell_type": "code",
   "execution_count": 88,
   "id": "1ee7d2a4-37b8-4a07-baaf-8cc99d0bfc11",
   "metadata": {},
   "outputs": [
    {
     "name": "stdout",
     "output_type": "stream",
     "text": [
      "Y\n"
     ]
    }
   ],
   "source": [
    "print(infile[-28])"
   ]
  },
  {
   "cell_type": "code",
   "execution_count": 57,
   "id": "e80a12b7-f214-4a3d-ac8f-0e7c8422322a",
   "metadata": {},
   "outputs": [
    {
     "data": {
      "image/png": "[encoded data removed]",
      "text/plain": [
       "<Figure size 640x480 with 1 Axes>"
      ]
     },
     "metadata": {},
     "output_type": "display_data"
    }
   ],
   "source": [
    "plt.figure()\n",
    "plt.hist(noise_pixels.flatten(), bins = 200, range = (90, 130))\n",
    "plt.show()"
   ]
  },
  {
   "cell_type": "code",
   "execution_count": 64,
   "id": "6998d7f7-d0c3-4604-bf51-44ee56e46216",
   "metadata": {},
   "outputs": [
    {
     "name": "stdout",
     "output_type": "stream",
     "text": [
      "Fits (GNU Astronomy Utilities) 0.21\n",
      "Run on Sun Jul 14 12:06:00 2024\n",
      "-----\n",
      "HDU (extension) information: '/home/aellien/Euclid_ERO/data/Euclid-NISP-Stack-ERO-Abell2390.DR3/Euclid-NISP-H-ERO-Abell2390-LSB.DR3.masked.rot.crop.warp.fits'.\n",
      " Column 1: Index (counting from 0, usable with '--hdu').\n",
      " Column 2: Name ('EXTNAME' in FITS standard, usable with '--hdu').\n",
      " Column 3: Image data type or 'table' format (ASCII or binary).\n",
      " Column 4: Size of data in HDU.\n",
      " Column 5: Units of data in HDU (only images, for tables use 'asttable -i').\n",
      "           ('n/a': no unit in HDU metadata, or HDU is a table)\n",
      "-----\n",
      "0      WARP-CONFIG     no-data         0         n/a\n",
      "1      Warped          float32         2251x2251 n/a\n"
     ]
    },
    {
     "data": {
      "text/plain": [
       "CompletedProcess(args=['astfits', '/home/aellien/Euclid_ERO/data/Euclid-NISP-Stack-ERO-Abell2390.DR3/Euclid-NISP-H-ERO-Abell2390-LSB.DR3.masked.rot.crop.warp.fits'], returncode=0)"
      ]
     },
     "execution_count": 64,
     "metadata": {},
     "output_type": "execute_result"
    }
   ],
   "source": []
  },
  {
   "cell_type": "code",
   "execution_count": null,
   "id": "fd75f531-87c3-486b-8dcf-a75795c19c77",
   "metadata": {},
   "outputs": [],
   "source": []
  }
 ],
 "metadata": {
  "kernelspec": {
   "display_name": "Python 3 (ipykernel)",
   "language": "python",
   "name": "python3"
  },
  "language_info": {
   "codemirror_mode": {
    "name": "ipython",
    "version": 3
   },
   "file_extension": ".py",
   "mimetype": "text/x-python",
   "name": "python",
   "nbconvert_exporter": "python",
   "pygments_lexer": "ipython3",
   "version": "3.11.6"
  }
 },
 "nbformat": 4,
 "nbformat_minor": 5
}
